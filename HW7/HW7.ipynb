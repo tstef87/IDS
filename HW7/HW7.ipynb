{
  "nbformat": 4,
  "nbformat_minor": 0,
  "metadata": {
    "colab": {
      "name": "HW7.ipynb",
      "provenance": [],
      "authorship_tag": "ABX9TyOIzfJ51FX/Y8uv9PK1O/2I",
      "include_colab_link": true
    },
    "kernelspec": {
      "name": "python3",
      "display_name": "Python 3"
    },
    "language_info": {
      "name": "python"
    }
  },
  "cells": [
    {
      "cell_type": "markdown",
      "metadata": {
        "id": "view-in-github",
        "colab_type": "text"
      },
      "source": [
        "<a href=\"https://colab.research.google.com/github/tstef87/IDS/blob/main/HW7/HW7.ipynb\" target=\"_parent\"><img src=\"https://colab.research.google.com/assets/colab-badge.svg\" alt=\"Open In Colab\"/></a>"
      ]
    },
    {
      "cell_type": "code",
      "source": [
        "#imports \n",
        "\n",
        "import pandas as pd\n",
        "import numpy as np\n",
        "from sklearn.metrics import r2_score, mean_squared_error\n",
        "from sklearn import linear_model\n",
        "from sklearn.naive_bayes import GaussianNB\n",
        "import matplotlib.pyplot as plt\n",
        "from sklearn import preprocessing\n",
        "from sklearn.model_selection import train_test_split\n",
        "from sklearn.tree import DecisionTreeClassifier\n",
        "from sklearn import tree\n",
        "from matplotlib.pyplot import figure\n",
        "import seaborn as sns\n",
        "from sklearn.metrics import confusion_matrix\n",
        "from matplotlib import lines\n",
        "\n",
        "\n",
        "\n"
      ],
      "metadata": {
        "id": "7Kp1DSyPvazM"
      },
      "execution_count": null,
      "outputs": []
    },
    {
      "cell_type": "code",
      "execution_count": null,
      "metadata": {
        "id": "dpqoLQORu_is"
      },
      "outputs": [],
      "source": [
        "#read in data\n",
        "dermatology = pd.read_csv(\"https://raw.githubusercontent.com/tstef87/IDS/main/HW7/dermatology%20(1).csv\")"
      ]
    },
    {
      "cell_type": "code",
      "source": [
        "#see if any null values \n",
        "dermatology.isnull().sum()"
      ],
      "metadata": {
        "id": "rig_A0QMvY_C",
        "colab": {
          "base_uri": "https://localhost:8080/"
        },
        "outputId": "674ff857-0fc1-4ce2-ea7c-d684d0dabbd6"
      },
      "execution_count": null,
      "outputs": [
        {
          "output_type": "execute_result",
          "data": {
            "text/plain": [
              "erythema                                    0\n",
              "scaling                                     0\n",
              "definite_borders                            0\n",
              "itching                                     0\n",
              "koebner_phenomenon                          0\n",
              "polygonal_papules                           0\n",
              "follicular_papules                          0\n",
              "oral_mucosal_involvement                    0\n",
              "knee_and_elbow_involvement                  0\n",
              "scalp_involvement                           0\n",
              "family_history                              0\n",
              "melanin_incontinence                        0\n",
              "eosinophils_in_the_infiltrate               0\n",
              "pnl_infiltrate                              0\n",
              "fibrosis_of_the_papillary_dermis            0\n",
              "exocytosis                                  0\n",
              "acanthosis                                  0\n",
              "hyperkeratosis                              0\n",
              "parakeratosis                               0\n",
              "clubbing_of_the_rete_ridges                 0\n",
              "elongation_of_the_rete_ridges               0\n",
              "thinning_of_the_suprapapillary_epidermis    0\n",
              "spongiform_pustule                          0\n",
              "munro_microabcess                           0\n",
              "focal_hypergranulosis                       0\n",
              "disappearance_of_the_granular_layer         0\n",
              "vacuolisation_and_damage_of_basal_layer     0\n",
              "spongiosis                                  0\n",
              "saw-tooth_appearance_of_retes               0\n",
              "follicular_horn_plug                        0\n",
              "perifollicular_parakeratosis                0\n",
              "inflammatory_monoluclear_inflitrate         0\n",
              "band-like_infiltrate                        0\n",
              "age                                         8\n",
              "class                                       0\n",
              "dtype: int64"
            ]
          },
          "metadata": {},
          "execution_count": 396
        }
      ]
    },
    {
      "cell_type": "code",
      "source": [
        "#setting null age values to avg of age \n",
        "dermatology['age'] = dermatology['age'].fillna(dermatology['age'].median())\n",
        "dermatology.isnull().sum()"
      ],
      "metadata": {
        "colab": {
          "base_uri": "https://localhost:8080/"
        },
        "id": "J2FU8MUoPcP1",
        "outputId": "03c77316-e1c9-467f-b669-eb064bbde794"
      },
      "execution_count": null,
      "outputs": [
        {
          "output_type": "execute_result",
          "data": {
            "text/plain": [
              "erythema                                    0\n",
              "scaling                                     0\n",
              "definite_borders                            0\n",
              "itching                                     0\n",
              "koebner_phenomenon                          0\n",
              "polygonal_papules                           0\n",
              "follicular_papules                          0\n",
              "oral_mucosal_involvement                    0\n",
              "knee_and_elbow_involvement                  0\n",
              "scalp_involvement                           0\n",
              "family_history                              0\n",
              "melanin_incontinence                        0\n",
              "eosinophils_in_the_infiltrate               0\n",
              "pnl_infiltrate                              0\n",
              "fibrosis_of_the_papillary_dermis            0\n",
              "exocytosis                                  0\n",
              "acanthosis                                  0\n",
              "hyperkeratosis                              0\n",
              "parakeratosis                               0\n",
              "clubbing_of_the_rete_ridges                 0\n",
              "elongation_of_the_rete_ridges               0\n",
              "thinning_of_the_suprapapillary_epidermis    0\n",
              "spongiform_pustule                          0\n",
              "munro_microabcess                           0\n",
              "focal_hypergranulosis                       0\n",
              "disappearance_of_the_granular_layer         0\n",
              "vacuolisation_and_damage_of_basal_layer     0\n",
              "spongiosis                                  0\n",
              "saw-tooth_appearance_of_retes               0\n",
              "follicular_horn_plug                        0\n",
              "perifollicular_parakeratosis                0\n",
              "inflammatory_monoluclear_inflitrate         0\n",
              "band-like_infiltrate                        0\n",
              "age                                         0\n",
              "class                                       0\n",
              "dtype: int64"
            ]
          },
          "metadata": {},
          "execution_count": 397
        }
      ]
    },
    {
      "cell_type": "code",
      "source": [
        "#box plot\n",
        "df = pd.crosstab(dermatology.age, dermatology['class'])\n",
        "df.boxplot()"
      ],
      "metadata": {
        "colab": {
          "base_uri": "https://localhost:8080/",
          "height": 282
        },
        "id": "BsvSYZ9EKELm",
        "outputId": "46e71187-a904-493a-d3ed-991d87598182"
      },
      "execution_count": null,
      "outputs": [
        {
          "output_type": "execute_result",
          "data": {
            "text/plain": [
              "<matplotlib.axes._subplots.AxesSubplot at 0x7f4bf4797b90>"
            ]
          },
          "metadata": {},
          "execution_count": 398
        },
        {
          "output_type": "display_data",
          "data": {
            "text/plain": [
              "<Figure size 432x288 with 1 Axes>"
            ],
            "image/png": "[encoded data removed]"
          },
          "metadata": {
            "needs_background": "light"
          }
        }
      ]
    },
    {
      "cell_type": "code",
      "source": [
        "ct = pd.crosstab(dermatology['class'], dermatology.scaling)\n",
        "ct"
      ],
      "metadata": {
        "colab": {
          "base_uri": "https://localhost:8080/",
          "height": 269
        },
        "id": "EVwLdxWpBYq9",
        "outputId": "99886809-c111-4930-f7f2-72c75953588f"
      },
      "execution_count": null,
      "outputs": [
        {
          "output_type": "execute_result",
          "data": {
            "text/plain": [
              "scaling  0   1   2   3\n",
              "class                 \n",
              "1        0  13  64  35\n",
              "2        0   7  43  11\n",
              "3        2  28  37   5\n",
              "4        0  24  25   0\n",
              "5        6  34  11   1\n",
              "6        0   5  15   0"
            ],
            "text/html": [
              "\n",
              "  <div id=\"df-4c50410e-2d59-412b-94b4-48bf3ad802d7\">\n",
              "    <div class=\"colab-df-container\">\n",
              "      <div>\n",
              "<style scoped>\n",
              "    .dataframe tbody tr th:only-of-type {\n",
              "        vertical-align: middle;\n",
              "    }\n",
              "\n",
              "    .dataframe tbody tr th {\n",
              "        vertical-align: top;\n",
              "    }\n",
              "\n",
              "    .dataframe thead th {\n",
              "        text-align: right;\n",
              "    }\n",
              "</style>\n",
              "<table border=\"1\" class=\"dataframe\">\n",
              "  <thead>\n",
              "    <tr style=\"text-align: right;\">\n",
              "      <th>scaling</th>\n",
              "      <th>0</th>\n",
              "      <th>1</th>\n",
              "      <th>2</th>\n",
              "      <th>3</th>\n",
              "    </tr>\n",
              "    <tr>\n",
              "      <th>class</th>\n",
              "      <th></th>\n",
              "      <th></th>\n",
              "      <th></th>\n",
              "      <th></th>\n",
              "    </tr>\n",
              "  </thead>\n",
              "  <tbody>\n",
              "    <tr>\n",
              "      <th>1</th>\n",
              "      <td>0</td>\n",
              "      <td>13</td>\n",
              "      <td>64</td>\n",
              "      <td>35</td>\n",
              "    </tr>\n",
              "    <tr>\n",
              "      <th>2</th>\n",
              "      <td>0</td>\n",
              "      <td>7</td>\n",
              "      <td>43</td>\n",
              "      <td>11</td>\n",
              "    </tr>\n",
              "    <tr>\n",
              "      <th>3</th>\n",
              "      <td>2</td>\n",
              "      <td>28</td>\n",
              "      <td>37</td>\n",
              "      <td>5</td>\n",
              "    </tr>\n",
              "    <tr>\n",
              "      <th>4</th>\n",
              "      <td>0</td>\n",
              "      <td>24</td>\n",
              "      <td>25</td>\n",
              "      <td>0</td>\n",
              "    </tr>\n",
              "    <tr>\n",
              "      <th>5</th>\n",
              "      <td>6</td>\n",
              "      <td>34</td>\n",
              "      <td>11</td>\n",
              "      <td>1</td>\n",
              "    </tr>\n",
              "    <tr>\n",
              "      <th>6</th>\n",
              "      <td>0</td>\n",
              "      <td>5</td>\n",
              "      <td>15</td>\n",
              "      <td>0</td>\n",
              "    </tr>\n",
              "  </tbody>\n",
              "</table>\n",
              "</div>\n",
              "      <button class=\"colab-df-convert\" onclick=\"convertToInteractive('df-4c50410e-2d59-412b-94b4-48bf3ad802d7')\"\n",
              "              title=\"Convert this dataframe to an interactive table.\"\n",
              "              style=\"display:none;\">\n",
              "        \n",
              "  <svg xmlns=\"http://www.w3.org/2000/svg\" height=\"24px\"viewBox=\"0 0 24 24\"\n",
              "       width=\"24px\">\n",
              "    <path d=\"M0 0h24v24H0V0z\" fill=\"none\"/>\n",
              "    <path d=\"M18.56 5.44l.94 2.06.94-2.06 2.06-.94-2.06-.94-.94-2.06-.94 2.06-2.06.94zm-11 1L8.5 8.5l.94-2.06 2.06-.94-2.06-.94L8.5 2.5l-.94 2.06-2.06.94zm10 10l.94 2.06.94-2.06 2.06-.94-2.06-.94-.94-2.06-.94 2.06-2.06.94z\"/><path d=\"M17.41 7.96l-1.37-1.37c-.4-.4-.92-.59-1.43-.59-.52 0-1.04.2-1.43.59L10.3 9.45l-7.72 7.72c-.78.78-.78 2.05 0 2.83L4 21.41c.39.39.9.59 1.41.59.51 0 1.02-.2 1.41-.59l7.78-7.78 2.81-2.81c.8-.78.8-2.07 0-2.86zM5.41 20L4 18.59l7.72-7.72 1.47 1.35L5.41 20z\"/>\n",
              "  </svg>\n",
              "      </button>\n",
              "      \n",
              "  <style>\n",
              "    .colab-df-container {\n",
              "      display:flex;\n",
              "      flex-wrap:wrap;\n",
              "      gap: 12px;\n",
              "    }\n",
              "\n",
              "    .colab-df-convert {\n",
              "      background-color: #E8F0FE;\n",
              "      border: none;\n",
              "      border-radius: 50%;\n",
              "      cursor: pointer;\n",
              "      display: none;\n",
              "      fill: #1967D2;\n",
              "      height: 32px;\n",
              "      padding: 0 0 0 0;\n",
              "      width: 32px;\n",
              "    }\n",
              "\n",
              "    .colab-df-convert:hover {\n",
              "      background-color: #E2EBFA;\n",
              "      box-shadow: 0px 1px 2px rgba(60, 64, 67, 0.3), 0px 1px 3px 1px rgba(60, 64, 67, 0.15);\n",
              "      fill: #174EA6;\n",
              "    }\n",
              "\n",
              "    [theme=dark] .colab-df-convert {\n",
              "      background-color: #3B4455;\n",
              "      fill: #D2E3FC;\n",
              "    }\n",
              "\n",
              "    [theme=dark] .colab-df-convert:hover {\n",
              "      background-color: #434B5C;\n",
              "      box-shadow: 0px 1px 3px 1px rgba(0, 0, 0, 0.15);\n",
              "      filter: drop-shadow(0px 1px 2px rgba(0, 0, 0, 0.3));\n",
              "      fill: #FFFFFF;\n",
              "    }\n",
              "  </style>\n",
              "\n",
              "      <script>\n",
              "        const buttonEl =\n",
              "          document.querySelector('#df-4c50410e-2d59-412b-94b4-48bf3ad802d7 button.colab-df-convert');\n",
              "        buttonEl.style.display =\n",
              "          google.colab.kernel.accessAllowed ? 'block' : 'none';\n",
              "\n",
              "        async function convertToInteractive(key) {\n",
              "          const element = document.querySelector('#df-4c50410e-2d59-412b-94b4-48bf3ad802d7');\n",
              "          const dataTable =\n",
              "            await google.colab.kernel.invokeFunction('convertToInteractive',\n",
              "                                                     [key], {});\n",
              "          if (!dataTable) return;\n",
              "\n",
              "          const docLinkHtml = 'Like what you see? Visit the ' +\n",
              "            '<a target=\"_blank\" href=https://colab.research.google.com/notebooks/data_table.ipynb>data table notebook</a>'\n",
              "            + ' to learn more about interactive tables.';\n",
              "          element.innerHTML = '';\n",
              "          dataTable['output_type'] = 'display_data';\n",
              "          await google.colab.output.renderOutput(dataTable, element);\n",
              "          const docLink = document.createElement('div');\n",
              "          docLink.innerHTML = docLinkHtml;\n",
              "          element.appendChild(docLink);\n",
              "        }\n",
              "      </script>\n",
              "    </div>\n",
              "  </div>\n",
              "  "
            ]
          },
          "metadata": {},
          "execution_count": 399
        }
      ]
    },
    {
      "cell_type": "code",
      "source": [
        "ordinal = ['erythema',                                    \n",
        "'scaling',                                     \n",
        "'definite_borders',                            \n",
        "'itching',                                     \n",
        "'koebner_phenomenon',                          \n",
        "'polygonal_papules',                           \n",
        "'follicular_papules',                          \n",
        "'oral_mucosal_involvement',                    \n",
        "'knee_and_elbow_involvement',                  \n",
        "'scalp_involvement',                          \n",
        "'melanin_incontinence',                        \n",
        "'eosinophils_in_the_infiltrate',               \n",
        "'pnl_infiltrate',                              \n",
        "'fibrosis_of_the_papillary_dermis',            \n",
        "'exocytosis',                                  \n",
        "'acanthosis',                                  \n",
        "'hyperkeratosis',                              \n",
        "'parakeratosis',                               \n",
        "'clubbing_of_the_rete_ridges',                 \n",
        "'elongation_of_the_rete_ridges',               \n",
        "'thinning_of_the_suprapapillary_epidermis',    \n",
        "'spongiform_pustule',                          \n",
        "'munro_microabcess',                           \n",
        "'focal_hypergranulosis',                       \n",
        "'disappearance_of_the_granular_layer',         \n",
        "'vacuolisation_and_damage_of_basal_layer',     \n",
        "'spongiosis',                                  \n",
        "'saw-tooth_appearance_of_retes',            \n",
        "'follicular_horn_plug',                        \n",
        "'perifollicular_parakeratosis',                \n",
        "'inflammatory_monoluclear_inflitrate',         \n",
        "'band-like_infiltrate']"
      ],
      "metadata": {
        "id": "paiqaTgZe11C"
      },
      "execution_count": null,
      "outputs": []
    },
    {
      "cell_type": "code",
      "source": [
        "#determining highes corelation betwean atribute and class\n",
        "best = 0  \n",
        "bestStr = 0\n",
        "count = 0 \n",
        "\n",
        "\n",
        "for i in ordinal:\n",
        "  ct = pd.crosstab(dermatology['class'], dermatology[i])\n",
        "  if (i == 'family_history'):\n",
        "    sum1 = ct[0].sum()\n",
        "    sum2 = ct[1].sum()\n",
        "    sum3 = sum2 - sum1\n",
        "  \n",
        "  elif (i == 'eosinophils_in_the_infiltrate'):\n",
        "    sum1= ct[0].sum()\n",
        "    sum2 = ct[1].sum() + ct[2].sum()\n",
        "    sum3 = sum2- sum1\n",
        "\n",
        "  else:\n",
        "    sum1= ct[0].sum()\n",
        "    sum2 = ct[1].sum() + ct[2].sum() + (ct[3].sum()*2)\n",
        "    sum3 = sum2- sum1\n",
        "  \n",
        "  if (sum3 > best):\n",
        "    best = sum3\n",
        "    bestName = i\n",
        "    bestStr = count \n",
        "  count += 1 \n",
        "\n",
        "ct = pd.crosstab(dermatology[ordinal[bestStr]], dermatology['class'])\n",
        "ct\n",
        "\n",
        "  "
      ],
      "metadata": {
        "colab": {
          "base_uri": "https://localhost:8080/",
          "height": 206
        },
        "id": "fergrJSMTFPB",
        "outputId": "ce506b3e-5990-43c2-b343-dad603ea12e7"
      },
      "execution_count": null,
      "outputs": [
        {
          "output_type": "execute_result",
          "data": {
            "text/plain": [
              "class      1   2   3   4   5   6\n",
              "erythema                        \n",
              "0          1   0   1   0   2   0\n",
              "1          7   5   7  11  25   2\n",
              "2         63  34  49  32  22  15\n",
              "3         41  22  15   6   3   3"
            ],
            "text/html": [
              "\n",
              "  <div id=\"df-01041d1f-21f2-40ae-8ee3-886ff78b57e2\">\n",
              "    <div class=\"colab-df-container\">\n",
              "      <div>\n",
              "<style scoped>\n",
              "    .dataframe tbody tr th:only-of-type {\n",
              "        vertical-align: middle;\n",
              "    }\n",
              "\n",
              "    .dataframe tbody tr th {\n",
              "        vertical-align: top;\n",
              "    }\n",
              "\n",
              "    .dataframe thead th {\n",
              "        text-align: right;\n",
              "    }\n",
              "</style>\n",
              "<table border=\"1\" class=\"dataframe\">\n",
              "  <thead>\n",
              "    <tr style=\"text-align: right;\">\n",
              "      <th>class</th>\n",
              "      <th>1</th>\n",
              "      <th>2</th>\n",
              "      <th>3</th>\n",
              "      <th>4</th>\n",
              "      <th>5</th>\n",
              "      <th>6</th>\n",
              "    </tr>\n",
              "    <tr>\n",
              "      <th>erythema</th>\n",
              "      <th></th>\n",
              "      <th></th>\n",
              "      <th></th>\n",
              "      <th></th>\n",
              "      <th></th>\n",
              "      <th></th>\n",
              "    </tr>\n",
              "  </thead>\n",
              "  <tbody>\n",
              "    <tr>\n",
              "      <th>0</th>\n",
              "      <td>1</td>\n",
              "      <td>0</td>\n",
              "      <td>1</td>\n",
              "      <td>0</td>\n",
              "      <td>2</td>\n",
              "      <td>0</td>\n",
              "    </tr>\n",
              "    <tr>\n",
              "      <th>1</th>\n",
              "      <td>7</td>\n",
              "      <td>5</td>\n",
              "      <td>7</td>\n",
              "      <td>11</td>\n",
              "      <td>25</td>\n",
              "      <td>2</td>\n",
              "    </tr>\n",
              "    <tr>\n",
              "      <th>2</th>\n",
              "      <td>63</td>\n",
              "      <td>34</td>\n",
              "      <td>49</td>\n",
              "      <td>32</td>\n",
              "      <td>22</td>\n",
              "      <td>15</td>\n",
              "    </tr>\n",
              "    <tr>\n",
              "      <th>3</th>\n",
              "      <td>41</td>\n",
              "      <td>22</td>\n",
              "      <td>15</td>\n",
              "      <td>6</td>\n",
              "      <td>3</td>\n",
              "      <td>3</td>\n",
              "    </tr>\n",
              "  </tbody>\n",
              "</table>\n",
              "</div>\n",
              "      <button class=\"colab-df-convert\" onclick=\"convertToInteractive('df-01041d1f-21f2-40ae-8ee3-886ff78b57e2')\"\n",
              "              title=\"Convert this dataframe to an interactive table.\"\n",
              "              style=\"display:none;\">\n",
              "        \n",
              "  <svg xmlns=\"http://www.w3.org/2000/svg\" height=\"24px\"viewBox=\"0 0 24 24\"\n",
              "       width=\"24px\">\n",
              "    <path d=\"M0 0h24v24H0V0z\" fill=\"none\"/>\n",
              "    <path d=\"M18.56 5.44l.94 2.06.94-2.06 2.06-.94-2.06-.94-.94-2.06-.94 2.06-2.06.94zm-11 1L8.5 8.5l.94-2.06 2.06-.94-2.06-.94L8.5 2.5l-.94 2.06-2.06.94zm10 10l.94 2.06.94-2.06 2.06-.94-2.06-.94-.94-2.06-.94 2.06-2.06.94z\"/><path d=\"M17.41 7.96l-1.37-1.37c-.4-.4-.92-.59-1.43-.59-.52 0-1.04.2-1.43.59L10.3 9.45l-7.72 7.72c-.78.78-.78 2.05 0 2.83L4 21.41c.39.39.9.59 1.41.59.51 0 1.02-.2 1.41-.59l7.78-7.78 2.81-2.81c.8-.78.8-2.07 0-2.86zM5.41 20L4 18.59l7.72-7.72 1.47 1.35L5.41 20z\"/>\n",
              "  </svg>\n",
              "      </button>\n",
              "      \n",
              "  <style>\n",
              "    .colab-df-container {\n",
              "      display:flex;\n",
              "      flex-wrap:wrap;\n",
              "      gap: 12px;\n",
              "    }\n",
              "\n",
              "    .colab-df-convert {\n",
              "      background-color: #E8F0FE;\n",
              "      border: none;\n",
              "      border-radius: 50%;\n",
              "      cursor: pointer;\n",
              "      display: none;\n",
              "      fill: #1967D2;\n",
              "      height: 32px;\n",
              "      padding: 0 0 0 0;\n",
              "      width: 32px;\n",
              "    }\n",
              "\n",
              "    .colab-df-convert:hover {\n",
              "      background-color: #E2EBFA;\n",
              "      box-shadow: 0px 1px 2px rgba(60, 64, 67, 0.3), 0px 1px 3px 1px rgba(60, 64, 67, 0.15);\n",
              "      fill: #174EA6;\n",
              "    }\n",
              "\n",
              "    [theme=dark] .colab-df-convert {\n",
              "      background-color: #3B4455;\n",
              "      fill: #D2E3FC;\n",
              "    }\n",
              "\n",
              "    [theme=dark] .colab-df-convert:hover {\n",
              "      background-color: #434B5C;\n",
              "      box-shadow: 0px 1px 3px 1px rgba(0, 0, 0, 0.15);\n",
              "      filter: drop-shadow(0px 1px 2px rgba(0, 0, 0, 0.3));\n",
              "      fill: #FFFFFF;\n",
              "    }\n",
              "  </style>\n",
              "\n",
              "      <script>\n",
              "        const buttonEl =\n",
              "          document.querySelector('#df-01041d1f-21f2-40ae-8ee3-886ff78b57e2 button.colab-df-convert');\n",
              "        buttonEl.style.display =\n",
              "          google.colab.kernel.accessAllowed ? 'block' : 'none';\n",
              "\n",
              "        async function convertToInteractive(key) {\n",
              "          const element = document.querySelector('#df-01041d1f-21f2-40ae-8ee3-886ff78b57e2');\n",
              "          const dataTable =\n",
              "            await google.colab.kernel.invokeFunction('convertToInteractive',\n",
              "                                                     [key], {});\n",
              "          if (!dataTable) return;\n",
              "\n",
              "          const docLinkHtml = 'Like what you see? Visit the ' +\n",
              "            '<a target=\"_blank\" href=https://colab.research.google.com/notebooks/data_table.ipynb>data table notebook</a>'\n",
              "            + ' to learn more about interactive tables.';\n",
              "          element.innerHTML = '';\n",
              "          dataTable['output_type'] = 'display_data';\n",
              "          await google.colab.output.renderOutput(dataTable, element);\n",
              "          const docLink = document.createElement('div');\n",
              "          docLink.innerHTML = docLinkHtml;\n",
              "          element.appendChild(docLink);\n",
              "        }\n",
              "      </script>\n",
              "    </div>\n",
              "  </div>\n",
              "  "
            ]
          },
          "metadata": {},
          "execution_count": 401
        }
      ]
    },
    {
      "cell_type": "code",
      "source": [
        "#ploting data\n",
        "barplot = ct.plot.bar(rot=0)"
      ],
      "metadata": {
        "colab": {
          "base_uri": "https://localhost:8080/",
          "height": 279
        },
        "id": "AMGFvkfuQ9eV",
        "outputId": "5b091d79-e585-4ac8-f4d4-0c3fc9012e21"
      },
      "execution_count": null,
      "outputs": [
        {
          "output_type": "display_data",
          "data": {
            "text/plain": [
              "<Figure size 432x288 with 1 Axes>"
            ],
            "image/png": "[encoded data removed]"
          },
          "metadata": {
            "needs_background": "light"
          }
        }
      ]
    },
    {
      "cell_type": "code",
      "source": [
        "#conditions for new col\n",
        "def newCol(df):\n",
        "  if (df['class'] == 1):\n",
        "    return 1\n",
        "  else:\n",
        "    return 0"
      ],
      "metadata": {
        "id": "PzhHBVr8sGwL"
      },
      "execution_count": null,
      "outputs": []
    },
    {
      "cell_type": "code",
      "source": [
        "#making new col\n",
        "dermatology['disease_1'] = dermatology.apply(lambda row: newCol(row), axis=1)"
      ],
      "metadata": {
        "id": "t_iSCaBSx8X0"
      },
      "execution_count": null,
      "outputs": []
    },
    {
      "cell_type": "code",
      "source": [
        "#checking to see if it worked \n",
        "dermatology.head(10)"
      ],
      "metadata": {
        "colab": {
          "base_uri": "https://localhost:8080/",
          "height": 474
        },
        "id": "1PVx07tes_jy",
        "outputId": "05983761-4f92-45e7-a0b0-1c7057139e88"
      },
      "execution_count": null,
      "outputs": [
        {
          "output_type": "execute_result",
          "data": {
            "text/plain": [
              "   erythema  scaling  definite_borders  itching  koebner_phenomenon  \\\n",
              "0         2        2                 0        3                   0   \n",
              "1         3        3                 3        2                   1   \n",
              "2         2        1                 2        3                   1   \n",
              "3         2        2                 2        0                   0   \n",
              "4         2        3                 2        2                   2   \n",
              "5         2        3                 2        0                   0   \n",
              "6         2        1                 0        2                   0   \n",
              "7         2        2                 3        3                   3   \n",
              "8         2        2                 1        0                   2   \n",
              "9         2        2                 1        0                   1   \n",
              "\n",
              "   polygonal_papules  follicular_papules  oral_mucosal_involvement  \\\n",
              "0                  0                   0                         0   \n",
              "1                  0                   0                         0   \n",
              "2                  3                   0                         3   \n",
              "3                  0                   0                         0   \n",
              "4                  2                   0                         2   \n",
              "5                  0                   0                         0   \n",
              "6                  0                   0                         0   \n",
              "7                  3                   0                         2   \n",
              "8                  0                   0                         0   \n",
              "9                  0                   0                         0   \n",
              "\n",
              "   knee_and_elbow_involvement  scalp_involvement  ...  \\\n",
              "0                           1                  0  ...   \n",
              "1                           1                  1  ...   \n",
              "2                           0                  0  ...   \n",
              "3                           3                  2  ...   \n",
              "4                           0                  0  ...   \n",
              "5                           0                  0  ...   \n",
              "6                           0                  0  ...   \n",
              "7                           0                  0  ...   \n",
              "8                           0                  0  ...   \n",
              "9                           0                  0  ...   \n",
              "\n",
              "   vacuolisation_and_damage_of_basal_layer  spongiosis  \\\n",
              "0                                        0           3   \n",
              "1                                        0           0   \n",
              "2                                        2           3   \n",
              "3                                        0           0   \n",
              "4                                        3           2   \n",
              "5                                        0           2   \n",
              "6                                        0           0   \n",
              "7                                        2           3   \n",
              "8                                        0           2   \n",
              "9                                        0           2   \n",
              "\n",
              "   saw-tooth_appearance_of_retes  follicular_horn_plug  \\\n",
              "0                              0                     0   \n",
              "1                              0                     0   \n",
              "2                              2                     0   \n",
              "3                              0                     0   \n",
              "4                              3                     0   \n",
              "5                              0                     0   \n",
              "6                              0                     0   \n",
              "7                              2                     0   \n",
              "8                              0                     0   \n",
              "9                              0                     0   \n",
              "\n",
              "   perifollicular_parakeratosis  inflammatory_monoluclear_inflitrate  \\\n",
              "0                             0                                    1   \n",
              "1                             0                                    1   \n",
              "2                             0                                    2   \n",
              "3                             0                                    3   \n",
              "4                             0                                    2   \n",
              "5                             0                                    1   \n",
              "6                             0                                    2   \n",
              "7                             0                                    3   \n",
              "8                             0                                    2   \n",
              "9                             0                                    2   \n",
              "\n",
              "   band-like_infiltrate   age  class  disease_1  \n",
              "0                     0  55.0      2          0  \n",
              "1                     0   8.0      1          1  \n",
              "2                     3  26.0      3          0  \n",
              "3                     0  40.0      1          1  \n",
              "4                     3  45.0      3          0  \n",
              "5                     0  41.0      2          0  \n",
              "6                     0  18.0      5          0  \n",
              "7                     3  57.0      3          0  \n",
              "8                     0  22.0      4          0  \n",
              "9                     0  30.0      4          0  \n",
              "\n",
              "[10 rows x 36 columns]"
            ],
            "text/html": [
              "\n",
              "  <div id=\"df-3b2c93a7-46af-4186-8803-6f6fc9cc948b\">\n",
              "    <div class=\"colab-df-container\">\n",
              "      <div>\n",
              "<style scoped>\n",
              "    .dataframe tbody tr th:only-of-type {\n",
              "        vertical-align: middle;\n",
              "    }\n",
              "\n",
              "    .dataframe tbody tr th {\n",
              "        vertical-align: top;\n",
              "    }\n",
              "\n",
              "    .dataframe thead th {\n",
              "        text-align: right;\n",
              "    }\n",
              "</style>\n",
              "<table border=\"1\" class=\"dataframe\">\n",
              "  <thead>\n",
              "    <tr style=\"text-align: right;\">\n",
              "      <th></th>\n",
              "      <th>erythema</th>\n",
              "      <th>scaling</th>\n",
              "      <th>definite_borders</th>\n",
              "      <th>itching</th>\n",
              "      <th>koebner_phenomenon</th>\n",
              "      <th>polygonal_papules</th>\n",
              "      <th>follicular_papules</th>\n",
              "      <th>oral_mucosal_involvement</th>\n",
              "      <th>knee_and_elbow_involvement</th>\n",
              "      <th>scalp_involvement</th>\n",
              "      <th>...</th>\n",
              "      <th>vacuolisation_and_damage_of_basal_layer</th>\n",
              "      <th>spongiosis</th>\n",
              "      <th>saw-tooth_appearance_of_retes</th>\n",
              "      <th>follicular_horn_plug</th>\n",
              "      <th>perifollicular_parakeratosis</th>\n",
              "      <th>inflammatory_monoluclear_inflitrate</th>\n",
              "      <th>band-like_infiltrate</th>\n",
              "      <th>age</th>\n",
              "      <th>class</th>\n",
              "      <th>disease_1</th>\n",
              "    </tr>\n",
              "  </thead>\n",
              "  <tbody>\n",
              "    <tr>\n",
              "      <th>0</th>\n",
              "      <td>2</td>\n",
              "      <td>2</td>\n",
              "      <td>0</td>\n",
              "      <td>3</td>\n",
              "      <td>0</td>\n",
              "      <td>0</td>\n",
              "      <td>0</td>\n",
              "      <td>0</td>\n",
              "      <td>1</td>\n",
              "      <td>0</td>\n",
              "      <td>...</td>\n",
              "      <td>0</td>\n",
              "      <td>3</td>\n",
              "      <td>0</td>\n",
              "      <td>0</td>\n",
              "      <td>0</td>\n",
              "      <td>1</td>\n",
              "      <td>0</td>\n",
              "      <td>55.0</td>\n",
              "      <td>2</td>\n",
              "      <td>0</td>\n",
              "    </tr>\n",
              "    <tr>\n",
              "      <th>1</th>\n",
              "      <td>3</td>\n",
              "      <td>3</td>\n",
              "      <td>3</td>\n",
              "      <td>2</td>\n",
              "      <td>1</td>\n",
              "      <td>0</td>\n",
              "      <td>0</td>\n",
              "      <td>0</td>\n",
              "      <td>1</td>\n",
              "      <td>1</td>\n",
              "      <td>...</td>\n",
              "      <td>0</td>\n",
              "      <td>0</td>\n",
              "      <td>0</td>\n",
              "      <td>0</td>\n",
              "      <td>0</td>\n",
              "      <td>1</td>\n",
              "      <td>0</td>\n",
              "      <td>8.0</td>\n",
              "      <td>1</td>\n",
              "      <td>1</td>\n",
              "    </tr>\n",
              "    <tr>\n",
              "      <th>2</th>\n",
              "      <td>2</td>\n",
              "      <td>1</td>\n",
              "      <td>2</td>\n",
              "      <td>3</td>\n",
              "      <td>1</td>\n",
              "      <td>3</td>\n",
              "      <td>0</td>\n",
              "      <td>3</td>\n",
              "      <td>0</td>\n",
              "      <td>0</td>\n",
              "      <td>...</td>\n",
              "      <td>2</td>\n",
              "      <td>3</td>\n",
              "      <td>2</td>\n",
              "      <td>0</td>\n",
              "      <td>0</td>\n",
              "      <td>2</td>\n",
              "      <td>3</td>\n",
              "      <td>26.0</td>\n",
              "      <td>3</td>\n",
              "      <td>0</td>\n",
              "    </tr>\n",
              "    <tr>\n",
              "      <th>3</th>\n",
              "      <td>2</td>\n",
              "      <td>2</td>\n",
              "      <td>2</td>\n",
              "      <td>0</td>\n",
              "      <td>0</td>\n",
              "      <td>0</td>\n",
              "      <td>0</td>\n",
              "      <td>0</td>\n",
              "      <td>3</td>\n",
              "      <td>2</td>\n",
              "      <td>...</td>\n",
              "      <td>0</td>\n",
              "      <td>0</td>\n",
              "      <td>0</td>\n",
              "      <td>0</td>\n",
              "      <td>0</td>\n",
              "      <td>3</td>\n",
              "      <td>0</td>\n",
              "      <td>40.0</td>\n",
              "      <td>1</td>\n",
              "      <td>1</td>\n",
              "    </tr>\n",
              "    <tr>\n",
              "      <th>4</th>\n",
              "      <td>2</td>\n",
              "      <td>3</td>\n",
              "      <td>2</td>\n",
              "      <td>2</td>\n",
              "      <td>2</td>\n",
              "      <td>2</td>\n",
              "      <td>0</td>\n",
              "      <td>2</td>\n",
              "      <td>0</td>\n",
              "      <td>0</td>\n",
              "      <td>...</td>\n",
              "      <td>3</td>\n",
              "      <td>2</td>\n",
              "      <td>3</td>\n",
              "      <td>0</td>\n",
              "      <td>0</td>\n",
              "      <td>2</td>\n",
              "      <td>3</td>\n",
              "      <td>45.0</td>\n",
              "      <td>3</td>\n",
              "      <td>0</td>\n",
              "    </tr>\n",
              "    <tr>\n",
              "      <th>5</th>\n",
              "      <td>2</td>\n",
              "      <td>3</td>\n",
              "      <td>2</td>\n",
              "      <td>0</td>\n",
              "      <td>0</td>\n",
              "      <td>0</td>\n",
              "      <td>0</td>\n",
              "      <td>0</td>\n",
              "      <td>0</td>\n",
              "      <td>0</td>\n",
              "      <td>...</td>\n",
              "      <td>0</td>\n",
              "      <td>2</td>\n",
              "      <td>0</td>\n",
              "      <td>0</td>\n",
              "      <td>0</td>\n",
              "      <td>1</td>\n",
              "      <td>0</td>\n",
              "      <td>41.0</td>\n",
              "      <td>2</td>\n",
              "      <td>0</td>\n",
              "    </tr>\n",
              "    <tr>\n",
              "      <th>6</th>\n",
              "      <td>2</td>\n",
              "      <td>1</td>\n",
              "      <td>0</td>\n",
              "      <td>2</td>\n",
              "      <td>0</td>\n",
              "      <td>0</td>\n",
              "      <td>0</td>\n",
              "      <td>0</td>\n",
              "      <td>0</td>\n",
              "      <td>0</td>\n",
              "      <td>...</td>\n",
              "      <td>0</td>\n",
              "      <td>0</td>\n",
              "      <td>0</td>\n",
              "      <td>0</td>\n",
              "      <td>0</td>\n",
              "      <td>2</td>\n",
              "      <td>0</td>\n",
              "      <td>18.0</td>\n",
              "      <td>5</td>\n",
              "      <td>0</td>\n",
              "    </tr>\n",
              "    <tr>\n",
              "      <th>7</th>\n",
              "      <td>2</td>\n",
              "      <td>2</td>\n",
              "      <td>3</td>\n",
              "      <td>3</td>\n",
              "      <td>3</td>\n",
              "      <td>3</td>\n",
              "      <td>0</td>\n",
              "      <td>2</td>\n",
              "      <td>0</td>\n",
              "      <td>0</td>\n",
              "      <td>...</td>\n",
              "      <td>2</td>\n",
              "      <td>3</td>\n",
              "      <td>2</td>\n",
              "      <td>0</td>\n",
              "      <td>0</td>\n",
              "      <td>3</td>\n",
              "      <td>3</td>\n",
              "      <td>57.0</td>\n",
              "      <td>3</td>\n",
              "      <td>0</td>\n",
              "    </tr>\n",
              "    <tr>\n",
              "      <th>8</th>\n",
              "      <td>2</td>\n",
              "      <td>2</td>\n",
              "      <td>1</td>\n",
              "      <td>0</td>\n",
              "      <td>2</td>\n",
              "      <td>0</td>\n",
              "      <td>0</td>\n",
              "      <td>0</td>\n",
              "      <td>0</td>\n",
              "      <td>0</td>\n",
              "      <td>...</td>\n",
              "      <td>0</td>\n",
              "      <td>2</td>\n",
              "      <td>0</td>\n",
              "      <td>0</td>\n",
              "      <td>0</td>\n",
              "      <td>2</td>\n",
              "      <td>0</td>\n",
              "      <td>22.0</td>\n",
              "      <td>4</td>\n",
              "      <td>0</td>\n",
              "    </tr>\n",
              "    <tr>\n",
              "      <th>9</th>\n",
              "      <td>2</td>\n",
              "      <td>2</td>\n",
              "      <td>1</td>\n",
              "      <td>0</td>\n",
              "      <td>1</td>\n",
              "      <td>0</td>\n",
              "      <td>0</td>\n",
              "      <td>0</td>\n",
              "      <td>0</td>\n",
              "      <td>0</td>\n",
              "      <td>...</td>\n",
              "      <td>0</td>\n",
              "      <td>2</td>\n",
              "      <td>0</td>\n",
              "      <td>0</td>\n",
              "      <td>0</td>\n",
              "      <td>2</td>\n",
              "      <td>0</td>\n",
              "      <td>30.0</td>\n",
              "      <td>4</td>\n",
              "      <td>0</td>\n",
              "    </tr>\n",
              "  </tbody>\n",
              "</table>\n",
              "<p>10 rows × 36 columns</p>\n",
              "</div>\n",
              "      <button class=\"colab-df-convert\" onclick=\"convertToInteractive('df-3b2c93a7-46af-4186-8803-6f6fc9cc948b')\"\n",
              "              title=\"Convert this dataframe to an interactive table.\"\n",
              "              style=\"display:none;\">\n",
              "        \n",
              "  <svg xmlns=\"http://www.w3.org/2000/svg\" height=\"24px\"viewBox=\"0 0 24 24\"\n",
              "       width=\"24px\">\n",
              "    <path d=\"M0 0h24v24H0V0z\" fill=\"none\"/>\n",
              "    <path d=\"M18.56 5.44l.94 2.06.94-2.06 2.06-.94-2.06-.94-.94-2.06-.94 2.06-2.06.94zm-11 1L8.5 8.5l.94-2.06 2.06-.94-2.06-.94L8.5 2.5l-.94 2.06-2.06.94zm10 10l.94 2.06.94-2.06 2.06-.94-2.06-.94-.94-2.06-.94 2.06-2.06.94z\"/><path d=\"M17.41 7.96l-1.37-1.37c-.4-.4-.92-.59-1.43-.59-.52 0-1.04.2-1.43.59L10.3 9.45l-7.72 7.72c-.78.78-.78 2.05 0 2.83L4 21.41c.39.39.9.59 1.41.59.51 0 1.02-.2 1.41-.59l7.78-7.78 2.81-2.81c.8-.78.8-2.07 0-2.86zM5.41 20L4 18.59l7.72-7.72 1.47 1.35L5.41 20z\"/>\n",
              "  </svg>\n",
              "      </button>\n",
              "      \n",
              "  <style>\n",
              "    .colab-df-container {\n",
              "      display:flex;\n",
              "      flex-wrap:wrap;\n",
              "      gap: 12px;\n",
              "    }\n",
              "\n",
              "    .colab-df-convert {\n",
              "      background-color: #E8F0FE;\n",
              "      border: none;\n",
              "      border-radius: 50%;\n",
              "      cursor: pointer;\n",
              "      display: none;\n",
              "      fill: #1967D2;\n",
              "      height: 32px;\n",
              "      padding: 0 0 0 0;\n",
              "      width: 32px;\n",
              "    }\n",
              "\n",
              "    .colab-df-convert:hover {\n",
              "      background-color: #E2EBFA;\n",
              "      box-shadow: 0px 1px 2px rgba(60, 64, 67, 0.3), 0px 1px 3px 1px rgba(60, 64, 67, 0.15);\n",
              "      fill: #174EA6;\n",
              "    }\n",
              "\n",
              "    [theme=dark] .colab-df-convert {\n",
              "      background-color: #3B4455;\n",
              "      fill: #D2E3FC;\n",
              "    }\n",
              "\n",
              "    [theme=dark] .colab-df-convert:hover {\n",
              "      background-color: #434B5C;\n",
              "      box-shadow: 0px 1px 3px 1px rgba(0, 0, 0, 0.15);\n",
              "      filter: drop-shadow(0px 1px 2px rgba(0, 0, 0, 0.3));\n",
              "      fill: #FFFFFF;\n",
              "    }\n",
              "  </style>\n",
              "\n",
              "      <script>\n",
              "        const buttonEl =\n",
              "          document.querySelector('#df-3b2c93a7-46af-4186-8803-6f6fc9cc948b button.colab-df-convert');\n",
              "        buttonEl.style.display =\n",
              "          google.colab.kernel.accessAllowed ? 'block' : 'none';\n",
              "\n",
              "        async function convertToInteractive(key) {\n",
              "          const element = document.querySelector('#df-3b2c93a7-46af-4186-8803-6f6fc9cc948b');\n",
              "          const dataTable =\n",
              "            await google.colab.kernel.invokeFunction('convertToInteractive',\n",
              "                                                     [key], {});\n",
              "          if (!dataTable) return;\n",
              "\n",
              "          const docLinkHtml = 'Like what you see? Visit the ' +\n",
              "            '<a target=\"_blank\" href=https://colab.research.google.com/notebooks/data_table.ipynb>data table notebook</a>'\n",
              "            + ' to learn more about interactive tables.';\n",
              "          element.innerHTML = '';\n",
              "          dataTable['output_type'] = 'display_data';\n",
              "          await google.colab.output.renderOutput(dataTable, element);\n",
              "          const docLink = document.createElement('div');\n",
              "          docLink.innerHTML = docLinkHtml;\n",
              "          element.appendChild(docLink);\n",
              "        }\n",
              "      </script>\n",
              "    </div>\n",
              "  </div>\n",
              "  "
            ]
          },
          "metadata": {},
          "execution_count": 405
        }
      ]
    },
    {
      "cell_type": "markdown",
      "source": [
        "#***linear regression model***"
      ],
      "metadata": {
        "id": "Jj1tuFN-JfcT"
      }
    },
    {
      "cell_type": "code",
      "source": [
        "#making the model\n",
        "sns.pairplot(dermatology, x_vars='disease_1', y_vars='age', height=4, aspect=1, kind= 'scatter' )\n",
        "plt.show()"
      ],
      "metadata": {
        "colab": {
          "base_uri": "https://localhost:8080/",
          "height": 303
        },
        "id": "lGfakXn2tBna",
        "outputId": "34af8fd2-f2a4-474c-bfea-659dd87aa59e"
      },
      "execution_count": null,
      "outputs": [
        {
          "output_type": "display_data",
          "data": {
            "text/plain": [
              "<Figure size 288x288 with 1 Axes>"
            ],
            "image/png": "[encoded data removed]"
          },
          "metadata": {
            "needs_background": "light"
          }
        }
      ]
    },
    {
      "cell_type": "code",
      "source": [
        "lm1 = linear_model.LinearRegression()\n",
        "\n",
        "x = dermatology['disease_1'].values.reshape(-1, 1)\n",
        "y = dermatology['age'].values.reshape(-1, 1)\n",
        "\n",
        "lm1.fit(x, y)\n",
        "\n",
        "print (\"Intercept: \", lm1.intercept_)\n",
        "print (\"Slope: \", lm1.coef_)\n"
      ],
      "metadata": {
        "colab": {
          "base_uri": "https://localhost:8080/"
        },
        "id": "oXgqsC_HzvBF",
        "outputId": "f601c6fd-c112-429f-8e69-90425600c702"
      },
      "execution_count": null,
      "outputs": [
        {
          "output_type": "stream",
          "name": "stdout",
          "text": [
            "Intercept:  [34.91338583]\n",
            "Slope:  [[4.42589989]]\n"
          ]
        }
      ]
    },
    {
      "cell_type": "code",
      "source": [
        "y_pred = lm1.predict(x)\n",
        "\n",
        "#mse and R2 \n",
        "print (\"R2 score: \", r2_score(y, y_pred))\n",
        "print (\"MSE: \", mean_squared_error(y, y_pred))\n"
      ],
      "metadata": {
        "colab": {
          "base_uri": "https://localhost:8080/"
        },
        "id": "hUzUDBm11Yxs",
        "outputId": "54cb3d88-ab39-42f0-c384-8c5353787ff5"
      },
      "execution_count": null,
      "outputs": [
        {
          "output_type": "stream",
          "name": "stdout",
          "text": [
            "R2 score:  0.01815773383567898\n",
            "MSE:  224.9431738553172\n"
          ]
        }
      ]
    },
    {
      "cell_type": "code",
      "source": [
        "#plot with regression line \n",
        "dermatology.plot(kind='scatter', x='disease_1', y='age')\n",
        "plt.plot(x, lm1.intercept_ +lm1.coef_*x)"
      ],
      "metadata": {
        "colab": {
          "base_uri": "https://localhost:8080/",
          "height": 297
        },
        "id": "Gp6kxRTQ2Vp5",
        "outputId": "a390941e-49f7-4f19-8751-2f2c469c9ed4"
      },
      "execution_count": null,
      "outputs": [
        {
          "output_type": "execute_result",
          "data": {
            "text/plain": [
              "[<matplotlib.lines.Line2D at 0x7f4bf4199410>]"
            ]
          },
          "metadata": {},
          "execution_count": 410
        },
        {
          "output_type": "display_data",
          "data": {
            "text/plain": [
              "<Figure size 432x288 with 1 Axes>"
            ],
            "image/png": "[encoded data removed]"
          },
          "metadata": {
            "needs_background": "light"
          }
        }
      ]
    },
    {
      "cell_type": "markdown",
      "source": [
        "# ***NB classifier model***\n"
      ],
      "metadata": {
        "id": "N7vxHrzd53Zg"
      }
    },
    {
      "cell_type": "code",
      "source": [
        "#Create a Gaussian Classifier\n",
        "NBmodel = GaussianNB()\n",
        "\n",
        "# Train the model using training set for approach #1\n",
        "# NBmodel.fit(features, labels) \n",
        "\n",
        "# Prepare input and output for learning\n",
        "X = dermatology.iloc[:,0:4]\n",
        "y = dermatology.iloc[:,35]\n",
        "\n",
        "# In order to have the same proportion of 0 and 1 classes in a dataset to train, use 'stratify'\n",
        "X_train, X_test, y_train, y_test = \\\n",
        "    train_test_split(X, y, random_state=42, shuffle=True, test_size=0.35, stratify=y)\n",
        "\n",
        "# Display the sets\n",
        "print(X_train)\n",
        "print(X_test)"
      ],
      "metadata": {
        "colab": {
          "base_uri": "https://localhost:8080/"
        },
        "id": "ur9K_DtK2zuq",
        "outputId": "b6ead84b-df75-4f6e-c2a8-ac02664e6e6f"
      },
      "execution_count": null,
      "outputs": [
        {
          "output_type": "stream",
          "name": "stdout",
          "text": [
            "     erythema  scaling  definite_borders  itching\n",
            "346         2        2                 2        1\n",
            "306         2        1                 1        0\n",
            "225         2        1                 2        2\n",
            "116         2        2                 1        2\n",
            "218         3        2                 1        0\n",
            "..        ...      ...               ...      ...\n",
            "215         2        3                 2        3\n",
            "61          2        1                 1        0\n",
            "360         2        2                 1        1\n",
            "147         1        1                 0        3\n",
            "195         2        2                 1        2\n",
            "\n",
            "[237 rows x 4 columns]\n",
            "     erythema  scaling  definite_borders  itching\n",
            "149         2        3                 0        2\n",
            "295         2        1                 0        2\n",
            "80          3        2                 2        2\n",
            "246         2        2                 2        0\n",
            "184         2        2                 1        0\n",
            "..        ...      ...               ...      ...\n",
            "122         1        1                 2        0\n",
            "71          2        1                 2        0\n",
            "274         1        2                 2        1\n",
            "70          2        2                 2        1\n",
            "88          0        1                 2        1\n",
            "\n",
            "[129 rows x 4 columns]\n"
          ]
        }
      ]
    },
    {
      "cell_type": "code",
      "source": [
        "# Train the model \n",
        "NBmodel.fit(X_train, y_train)\n",
        "\n",
        "# Calculate model accuracy on both training and test data\n",
        "labels = [\"Training\", \"Test\"]\n",
        "scores = [NBmodel.score(X_train, y_train), NBmodel.score(X_test, y_test)]\n",
        "\n",
        "\n",
        "# Plot the accuracy claues\n",
        "fig = plt.figure()\n",
        "ax = fig.add_axes([0,0,1,1])\n",
        "ax.set_title('Model Classification Accuary on Training vs. Test Data')\n",
        "ax.bar(labels, scores, color=\"orange\")\n",
        "ax.set_ylim(0, 1)\n",
        "plt.show()\n",
        "print(\"Test: \", NBmodel.score(X_test, y_test))\n",
        "print(\"Training: \", NBmodel.score(X_train, y_train))"
      ],
      "metadata": {
        "colab": {
          "base_uri": "https://localhost:8080/",
          "height": 387
        },
        "id": "3AW3ZKNz6fWL",
        "outputId": "79a6f829-2e06-4ba5-9665-4cee9c3cedad"
      },
      "execution_count": null,
      "outputs": [
        {
          "output_type": "display_data",
          "data": {
            "text/plain": [
              "<Figure size 432x288 with 1 Axes>"
            ],
            "image/png": "[encoded data removed]"
          },
          "metadata": {
            "needs_background": "light"
          }
        },
        {
          "output_type": "stream",
          "name": "stdout",
          "text": [
            "Test:  0.751937984496124\n",
            "Training:  0.7341772151898734\n"
          ]
        }
      ]
    },
    {
      "cell_type": "markdown",
      "source": [
        "#***Decision tree model***"
      ],
      "metadata": {
        "id": "bCpSYfoo7duV"
      }
    },
    {
      "cell_type": "code",
      "source": [
        "# Prepare X and y\n",
        "X = dermatology.filter(['erythema',                                    \n",
        "'scaling',                                     \n",
        "'definite_borders',                            \n",
        "'itching',                                     \n",
        "'koebner_phenomenon',                          \n",
        "'polygonal_papules',                           \n",
        "'follicular_papules',                          \n",
        "'oral_mucosal_involvement',                    \n",
        "'knee_and_elbow_involvement',                  \n",
        "'scalp_involvement',                          \n",
        "'melanin_incontinence',                        \n",
        "'eosinophils_in_the_infiltrate',               \n",
        "'pnl_infiltrate',                              \n",
        "'fibrosis_of_the_papillary_dermis',            \n",
        "'exocytosis',                                  \n",
        "'acanthosis',                                  \n",
        "'hyperkeratosis',                              \n",
        "'parakeratosis',                               \n",
        "'clubbing_of_the_rete_ridges',                 \n",
        "'elongation_of_the_rete_ridges',               \n",
        "'thinning_of_the_suprapapillary_epidermis',    \n",
        "'spongiform_pustule',                          \n",
        "'munro_microabcess',                           \n",
        "'focal_hypergranulosis',                       \n",
        "'disappearance_of_the_granular_layer',         \n",
        "'vacuolisation_and_damage_of_basal_layer',     \n",
        "'spongiosis',                                  \n",
        "'saw-tooth_appearance_of_retes',            \n",
        "'follicular_horn_plug',                        \n",
        "'perifollicular_parakeratosis',                \n",
        "'inflammatory_monoluclear_inflitrate',         \n",
        "'band-like_infiltrate'])\n",
        "y = dermatology['class']\n",
        "\n",
        "\n",
        "# Let's do an 80-20 split\n",
        "X_train, X_test, y_train, y_test = \\\n",
        "    train_test_split(X, y, random_state=42, shuffle=True, train_size=0.80, stratify=y)\n",
        "\n",
        "#print sizes\n",
        "print(\"Training size:\", X_train.shape)\n",
        "print(\"Test size:\", X_test.shape)"
      ],
      "metadata": {
        "colab": {
          "base_uri": "https://localhost:8080/"
        },
        "id": "ONZ_d8um6tG4",
        "outputId": "6ca5d427-33a1-4789-cb53-04a99fdd8e10"
      },
      "execution_count": null,
      "outputs": [
        {
          "output_type": "stream",
          "name": "stdout",
          "text": [
            "Training size: (292, 32)\n",
            "Test size: (74, 32)\n"
          ]
        }
      ]
    },
    {
      "cell_type": "code",
      "source": [
        "# Find out class distributions in training and test datasets.\n",
        "\n",
        "plt.figure(figsize=(10,5))\n",
        "plt.subplot(1,2,1)\n",
        "plt.hist(y_train);\n",
        "plt.title('Frequency of different classes - Training data');\n",
        "\n",
        "plt.subplot(1,2,2)\n",
        "plt.hist(y_test);\n",
        "plt.title('Frequency of different classes - Testing data');"
      ],
      "metadata": {
        "colab": {
          "base_uri": "https://localhost:8080/",
          "height": 336
        },
        "id": "LvQJVrfp8DW9",
        "outputId": "a4dd0cd1-2362-485a-b134-c77609ce07de"
      },
      "execution_count": null,
      "outputs": [
        {
          "output_type": "display_data",
          "data": {
            "text/plain": [
              "<Figure size 720x360 with 2 Axes>"
            ],
            "image/png": "[encoded data removed]"
          },
          "metadata": {
            "needs_background": "light"
          }
        }
      ]
    },
    {
      "cell_type": "code",
      "source": [
        "\n",
        "from sklearn.tree import DecisionTreeClassifier\n",
        "from sklearn import tree\n",
        "# The CART tree; try different values for max_depth and max_leaf_nodes\n",
        "cart_classifier = DecisionTreeClassifier(criterion = \"gini\", \n",
        "                                         max_leaf_nodes=5,\n",
        "                                         random_state = 120).fit(X_train, y_train)\n",
        "\n",
        "# Control the figure size\n",
        "from matplotlib.pyplot import figure\n",
        "figure(figsize=(10, 8), dpi=80)\n",
        "\n",
        "\n",
        "# Plot the tree\n",
        "cn = ['0', '1','2','3','4','5','6']\n",
        "tree.plot_tree(cart_classifier, feature_names=X.columns.values.tolist(), \n",
        "                                class_names=cn,\n",
        "                                filled = True)\n",
        "\n",
        "\n",
        "# Print the text version of the tree\n",
        "text_representation = tree.export_text(cart_classifier, \n",
        "                                       feature_names=X.columns.values.tolist())\n",
        "print(text_representation)"
      ],
      "metadata": {
        "colab": {
          "base_uri": "https://localhost:8080/",
          "height": 759
        },
        "id": "WOdKbv4s8HHJ",
        "outputId": "85c69e9f-ed7c-416b-d1dc-d2689b20ee2b"
      },
      "execution_count": null,
      "outputs": [
        {
          "output_type": "stream",
          "name": "stdout",
          "text": [
            "|--- clubbing_of_the_rete_ridges <= 0.50\n",
            "|   |--- vacuolisation_and_damage_of_basal_layer <= 0.50\n",
            "|   |   |--- fibrosis_of_the_papillary_dermis <= 0.50\n",
            "|   |   |   |--- koebner_phenomenon <= 0.50\n",
            "|   |   |   |   |--- class: 2\n",
            "|   |   |   |--- koebner_phenomenon >  0.50\n",
            "|   |   |   |   |--- class: 4\n",
            "|   |   |--- fibrosis_of_the_papillary_dermis >  0.50\n",
            "|   |   |   |--- class: 5\n",
            "|   |--- vacuolisation_and_damage_of_basal_layer >  0.50\n",
            "|   |   |--- class: 3\n",
            "|--- clubbing_of_the_rete_ridges >  0.50\n",
            "|   |--- class: 1\n",
            "\n"
          ]
        },
        {
          "output_type": "display_data",
          "data": {
            "text/plain": [
              "<Figure size 800x640 with 1 Axes>"
            ],
            "image/png": "[encoded data removed]"
          },
          "metadata": {
            "needs_background": "light"
          }
        }
      ]
    },
    {
      "cell_type": "code",
      "source": [
        "\n",
        "# Record CART's and C5's predictions\n",
        "cart_predictions = cart_classifier.predict(X_test)\n",
        "\n",
        "# Compute TP, TN, FP, FN values for CART\n",
        "cart_cm = confusion_matrix(y_true=y_test, \n",
        "                           y_pred = cart_predictions)\n",
        "\n",
        "# Print CART's confusion matrix\n",
        "print(cart_cm)\n"
      ],
      "metadata": {
        "colab": {
          "base_uri": "https://localhost:8080/"
        },
        "id": "hP1Jls8QIRDO",
        "outputId": "e0122913-601f-43f1-87f6-ea483eafe88b"
      },
      "execution_count": null,
      "outputs": [
        {
          "output_type": "stream",
          "name": "stdout",
          "text": [
            "[[21  2  0  0  0  0]\n",
            " [ 0 11  0  1  0  0]\n",
            " [ 0  0 14  0  1  0]\n",
            " [ 0  2  0  8  0  0]\n",
            " [ 2  0  0  0  8  0]\n",
            " [ 0  4  0  0  0  0]]\n"
          ]
        }
      ]
    },
    {
      "cell_type": "code",
      "source": [
        "# Visualize CART's confusion matrix as a heatmap\n",
        "plt.figure(figsize=(8,8))\n",
        "sns.heatmap(cart_cm, annot=True, \n",
        "            linewidths=.5, square = True, cmap = 'Oranges_r', fmt='0.4g');\n",
        "\n",
        "plt.ylabel('Actual label')\n",
        "plt.xlabel('Predicted label')"
      ],
      "metadata": {
        "colab": {
          "base_uri": "https://localhost:8080/",
          "height": 489
        },
        "id": "xhYv2Oz28sMc",
        "outputId": "eb95704d-dd6c-42cb-8c63-fc95e4ae2c7e"
      },
      "execution_count": null,
      "outputs": [
        {
          "output_type": "execute_result",
          "data": {
            "text/plain": [
              "Text(0.5, 89.87999999999997, 'Predicted label')"
            ]
          },
          "metadata": {},
          "execution_count": 417
        },
        {
          "output_type": "display_data",
          "data": {
            "text/plain": [
              "<Figure size 576x576 with 2 Axes>"
            ],
            "image/png": "[encoded data removed]"
          },
          "metadata": {
            "needs_background": "light"
          }
        }
      ]
    }
  ]
}