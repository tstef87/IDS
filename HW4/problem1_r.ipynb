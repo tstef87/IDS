{
  "nbformat": 4,
  "nbformat_minor": 0,
  "metadata": {
    "colab": {
      "name": "problem1_r.ipynb",
      "provenance": [],
      "authorship_tag": "ABX9TyOVb5Tpwi3UNXI2W3ayWU2S",
      "include_colab_link": true
    },
    "kernelspec": {
      "name": "ir",
      "display_name": "R"
    },
    "language_info": {
      "name": "R"
    }
  },
  "cells": [
    {
      "cell_type": "markdown",
      "metadata": {
        "id": "view-in-github",
        "colab_type": "text"
      },
      "source": [
        "<a href=\"https://colab.research.google.com/github/tstef87/IDS/blob/main/HW4/problem1_r.ipynb\" target=\"_parent\"><img src=\"https://colab.research.google.com/assets/colab-badge.svg\" alt=\"Open In Colab\"/></a>"
      ]
    },
    {
      "cell_type": "code",
      "execution_count": 1,
      "metadata": {
        "colab": {
          "base_uri": "https://localhost:8080/"
        },
        "id": "GT0j7c8VHv8K",
        "outputId": "09cb502e-19d5-4479-fbd2-55a378da37a8"
      },
      "outputs": [
        {
          "output_type": "stream",
          "name": "stderr",
          "text": [
            "\u001b[1mRows: \u001b[22m\u001b[34m14797\u001b[39m \u001b[1mColumns: \u001b[22m\u001b[34m9\u001b[39m\n",
            "\u001b[36m──\u001b[39m \u001b[1mColumn specification\u001b[22m \u001b[36m────────────────────────────────────────────────────────\u001b[39m\n",
            "\u001b[1mDelimiter:\u001b[22m \",\"\n",
            "\u001b[31mchr\u001b[39m (5): workclass, marital-status, occupation, sex, income\n",
            "\u001b[32mdbl\u001b[39m (4): age, education, capital-gain, capital-loss\n",
            "\n",
            "\u001b[36mℹ\u001b[39m Use `spec()` to retrieve the full column specification for this data.\n",
            "\u001b[36mℹ\u001b[39m Specify the column types or set `show_col_types = FALSE` to quiet this message.\n"
          ]
        }
      ],
      "source": [
        "library(readr)\n",
        "\n",
        "#reading in data\n",
        "adult_training <- read_csv(\"https://raw.githubusercontent.com/bforoura/IDS/main/HW4/adult_training.csv\")"
      ]
    },
    {
      "cell_type": "code",
      "source": [
        "summary(adult_training)"
      ],
      "metadata": {
        "colab": {
          "base_uri": "https://localhost:8080/",
          "height": 382
        },
        "id": "1tiSvzjdIO-T",
        "outputId": "0b7123f1-6107-48a6-89d7-8eff2510c19b"
      },
      "execution_count": 2,
      "outputs": [
        {
          "output_type": "display_data",
          "data": {
            "text/plain": [
              "      age         workclass           education     marital-status    \n",
              " Min.   :17.00   Length:14797       Min.   : 1.00   Length:14797      \n",
              " 1st Qu.:28.00   Class :character   1st Qu.: 9.00   Class :character  \n",
              " Median :37.00   Mode  :character   Median :10.00   Mode  :character  \n",
              " Mean   :38.69                      Mean   :10.07                     \n",
              " 3rd Qu.:48.00                      3rd Qu.:12.00                     \n",
              " Max.   :90.00                      Max.   :16.00                     \n",
              "  occupation            sex             capital-gain    capital-loss    \n",
              " Length:14797       Length:14797       Min.   :    0   Min.   :   0.00  \n",
              " Class :character   Class :character   1st Qu.:    0   1st Qu.:   0.00  \n",
              " Mode  :character   Mode  :character   Median :    0   Median :   0.00  \n",
              "                                       Mean   : 1067   Mean   :  88.58  \n",
              "                                       3rd Qu.:    0   3rd Qu.:   0.00  \n",
              "                                       Max.   :99999   Max.   :4356.00  \n",
              "    income         \n",
              " Length:14797      \n",
              " Class :character  \n",
              " Mode  :character  \n",
              "                   \n",
              "                   \n",
              "                   "
            ]
          },
          "metadata": {}
        }
      ]
    },
    {
      "cell_type": "markdown",
      "source": [
        "***Contingency Table:***\n",
        "In this section I created two concengency tables. the first Workclass vs. Sex. the second sex vs. marital status. I then ploted both tables but had issues getting the correct plot that I wanted. "
      ],
      "metadata": {
        "id": "ePWg6wQe3q3t"
      }
    },
    {
      "cell_type": "code",
      "source": [
        "# 2-Way Cross Tabulation\n",
        "install.packages(\"gmodels\")\n",
        "library(gmodels)\n",
        "\n",
        "#working class vs. sex\n",
        "CrossTable(adult_training$workclass, adult_training$sex)"
      ],
      "metadata": {
        "colab": {
          "base_uri": "https://localhost:8080/"
        },
        "id": "Rp65_8aDIXdx",
        "outputId": "f04dcb7c-f41e-44df-89b4-d6b325610ab9"
      },
      "execution_count": 3,
      "outputs": [
        {
          "output_type": "stream",
          "name": "stderr",
          "text": [
            "Installing package into ‘/usr/local/lib/R/site-library’\n",
            "(as ‘lib’ is unspecified)\n",
            "\n",
            "also installing the dependencies ‘gtools’, ‘gdata’\n",
            "\n",
            "\n"
          ]
        },
        {
          "output_type": "stream",
          "name": "stdout",
          "text": [
            "\n",
            " \n",
            "   Cell Contents\n",
            "|-------------------------|\n",
            "|                       N |\n",
            "| Chi-square contribution |\n",
            "|           N / Row Total |\n",
            "|           N / Col Total |\n",
            "|         N / Table Total |\n",
            "|-------------------------|\n",
            "\n",
            " \n",
            "Total Observations in Table:  14797 \n",
            "\n",
            " \n",
            "                         | adult_training$sex \n",
            "adult_training$workclass |    Female |      Male | Row Total | \n",
            "-------------------------|-----------|-----------|-----------|\n",
            "                       ? |       377 |       452 |       829 | \n",
            "                         |    37.662 |    18.715 |           | \n",
            "                         |     0.455 |     0.545 |     0.056 | \n",
            "                         |     0.077 |     0.046 |           | \n",
            "                         |     0.025 |     0.031 |           | \n",
            "-------------------------|-----------|-----------|-----------|\n",
            "             Federal-gov |       149 |       305 |       454 | \n",
            "                         |     0.019 |     0.010 |           | \n",
            "                         |     0.328 |     0.672 |     0.031 | \n",
            "                         |     0.030 |     0.031 |           | \n",
            "                         |     0.010 |     0.021 |           | \n",
            "-------------------------|-----------|-----------|-----------|\n",
            "               Local-gov |       377 |       592 |       969 | \n",
            "                         |     9.518 |     4.730 |           | \n",
            "                         |     0.389 |     0.611 |     0.065 | \n",
            "                         |     0.077 |     0.060 |           | \n",
            "                         |     0.025 |     0.040 |           | \n",
            "-------------------------|-----------|-----------|-----------|\n",
            "            Never-worked |         1 |         4 |         5 | \n",
            "                         |     0.262 |     0.130 |           | \n",
            "                         |     0.200 |     0.800 |     0.000 | \n",
            "                         |     0.000 |     0.000 |           | \n",
            "                         |     0.000 |     0.000 |           | \n",
            "-------------------------|-----------|-----------|-----------|\n",
            "                 Private |      3574 |      6707 |     10281 | \n",
            "                         |     7.607 |     3.780 |           | \n",
            "                         |     0.348 |     0.652 |     0.695 | \n",
            "                         |     0.728 |     0.679 |           | \n",
            "                         |     0.242 |     0.453 |           | \n",
            "-------------------------|-----------|-----------|-----------|\n",
            "            Self-emp-inc |        54 |       444 |       498 | \n",
            "                         |    74.955 |    37.246 |           | \n",
            "                         |     0.108 |     0.892 |     0.034 | \n",
            "                         |     0.011 |     0.045 |           | \n",
            "                         |     0.004 |     0.030 |           | \n",
            "-------------------------|-----------|-----------|-----------|\n",
            "        Self-emp-not-inc |       178 |       992 |      1170 | \n",
            "                         |   113.970 |    56.633 |           | \n",
            "                         |     0.152 |     0.848 |     0.079 | \n",
            "                         |     0.036 |     0.100 |           | \n",
            "                         |     0.012 |     0.067 |           | \n",
            "-------------------------|-----------|-----------|-----------|\n",
            "               State-gov |       201 |       385 |       586 | \n",
            "                         |     0.215 |     0.107 |           | \n",
            "                         |     0.343 |     0.657 |     0.040 | \n",
            "                         |     0.041 |     0.039 |           | \n",
            "                         |     0.014 |     0.026 |           | \n",
            "-------------------------|-----------|-----------|-----------|\n",
            "             Without-pay |         1 |         4 |         5 | \n",
            "                         |     0.262 |     0.130 |           | \n",
            "                         |     0.200 |     0.800 |     0.000 | \n",
            "                         |     0.000 |     0.000 |           | \n",
            "                         |     0.000 |     0.000 |           | \n",
            "-------------------------|-----------|-----------|-----------|\n",
            "            Column Total |      4912 |      9885 |     14797 | \n",
            "                         |     0.332 |     0.668 |           | \n",
            "-------------------------|-----------|-----------|-----------|\n",
            "\n",
            " \n"
          ]
        }
      ]
    },
    {
      "cell_type": "code",
      "source": [
        "library(\"ggplot2\")\n",
        "\n",
        "#table work class vs. sex \n",
        "P <- prop.table(table(adult_training$workclass, adult_training$sex), margin = 2)\n",
        "\n",
        "ggplot(as.data.frame(P), aes(x = 'Work Class', y= Freq, fill = Var1)) +\n",
        "geom_bar(stat=\"identity\", position = \"dodge\")\n",
        "#had trouble getting the same chart as i did in python"
      ],
      "metadata": {
        "colab": {
          "base_uri": "https://localhost:8080/",
          "height": 437
        },
        "id": "mW78FsoPWE1e",
        "outputId": "39c37725-aba8-4df8-d07b-e2641375c257"
      },
      "execution_count": 48,
      "outputs": [
        {
          "output_type": "display_data",
          "data": {
            "text/plain": [
              "plot without title"
            ],
            "image/png": "[encoded data removed]"
          },
          "metadata": {
            "image/png": {
              "width": 420,
              "height": 420
            }
          }
        }
      ]
    },
    {
      "cell_type": "code",
      "source": [
        "#creating contingency table for sex vs. marital status\n",
        "CrossTable(adult_training$sex, adult_training$`marital-status`)\n"
      ],
      "metadata": {
        "colab": {
          "base_uri": "https://localhost:8080/"
        },
        "id": "mbhltE52JuvD",
        "outputId": "a0821421-dbd2-4f6c-9d14-6f999fa2119d"
      },
      "execution_count": 4,
      "outputs": [
        {
          "output_type": "stream",
          "name": "stdout",
          "text": [
            "\n",
            " \n",
            "   Cell Contents\n",
            "|-------------------------|\n",
            "|                       N |\n",
            "| Chi-square contribution |\n",
            "|           N / Row Total |\n",
            "|           N / Col Total |\n",
            "|         N / Table Total |\n",
            "|-------------------------|\n",
            "\n",
            " \n",
            "Total Observations in Table:  14797 \n",
            "\n",
            " \n",
            "                   | adult_training$`marital-status` \n",
            "adult_training$sex |              Divorced |     Married-AF-spouse |    Married-civ-spouse | Married-spouse-absent |         Never-married |             Separated |               Widowed |             Row Total | \n",
            "-------------------|-----------------------|-----------------------|-----------------------|-----------------------|-----------------------|-----------------------|-----------------------|-----------------------|\n",
            "            Female |                  1219 |                     7 |                   761 |                    95 |                  2160 |                   290 |                   380 |                  4912 | \n",
            "                   |               453.176 |                 3.071 |               983.347 |                12.678 |               180.806 |               113.431 |               350.627 |                       | \n",
            "                   |                 0.248 |                 0.001 |                 0.155 |                 0.019 |                 0.440 |                 0.059 |                 0.077 |                 0.332 | \n",
            "                   |                 0.605 |                 0.636 |                 0.112 |                 0.477 |                 0.443 |                 0.614 |                 0.839 |                       | \n",
            "                   |                 0.082 |                 0.000 |                 0.051 |                 0.006 |                 0.146 |                 0.020 |                 0.026 |                       | \n",
            "-------------------|-----------------------|-----------------------|-----------------------|-----------------------|-----------------------|-----------------------|-----------------------|-----------------------|\n",
            "              Male |                   795 |                     4 |                  6010 |                   104 |                  2717 |                   182 |                    73 |                  9885 | \n",
            "                   |               225.190 |                 1.526 |               488.639 |                 6.300 |                89.845 |                56.366 |               174.232 |                       | \n",
            "                   |                 0.080 |                 0.000 |                 0.608 |                 0.011 |                 0.275 |                 0.018 |                 0.007 |                 0.668 | \n",
            "                   |                 0.395 |                 0.364 |                 0.888 |                 0.523 |                 0.557 |                 0.386 |                 0.161 |                       | \n",
            "                   |                 0.054 |                 0.000 |                 0.406 |                 0.007 |                 0.184 |                 0.012 |                 0.005 |                       | \n",
            "-------------------|-----------------------|-----------------------|-----------------------|-----------------------|-----------------------|-----------------------|-----------------------|-----------------------|\n",
            "      Column Total |                  2014 |                    11 |                  6771 |                   199 |                  4877 |                   472 |                   453 |                 14797 | \n",
            "                   |                 0.136 |                 0.001 |                 0.458 |                 0.013 |                 0.330 |                 0.032 |                 0.031 |                       | \n",
            "-------------------|-----------------------|-----------------------|-----------------------|-----------------------|-----------------------|-----------------------|-----------------------|-----------------------|\n",
            "\n",
            " \n"
          ]
        }
      ]
    },
    {
      "cell_type": "code",
      "source": [
        "#table sex vs. martial status \n",
        "P <- prop.table(table(adult_training$sex, adult_training$`marital-status`), margin = 2)\n",
        "\n",
        "ggplot(as.data.frame(P), aes(x = 'sex', y= Freq, fill = Var1)) +\n",
        "geom_bar(stat=\"identity\", position = \"dodge\")\n",
        "#had toruble getting the same chart as i did in python "
      ],
      "metadata": {
        "colab": {
          "base_uri": "https://localhost:8080/",
          "height": 437
        },
        "id": "vSfndtUmZEtq",
        "outputId": "7c77da74-2a9a-4815-a5a9-e27c209c4232"
      },
      "execution_count": 52,
      "outputs": [
        {
          "output_type": "display_data",
          "data": {
            "text/plain": [
              "plot without title"
            ],
            "image/png": "[encoded data removed]"
          },
          "metadata": {
            "image/png": {
              "width": 420,
              "height": 420
            }
          }
        }
      ]
    },
    {
      "cell_type": "markdown",
      "source": [
        "***Adult Over 40:***\n",
        "To make the new dataframe i tool the old data frame and only accepted the data where age was grater than 40. i then constructed another cross table of sex and marital-status. Like the probles before i had trouble getting the correct graph. "
      ],
      "metadata": {
        "id": "EKbsorDU4b0U"
      }
    },
    {
      "cell_type": "code",
      "source": [
        "#making data frame for people over 40 \n",
        "over40 <- data.frame(adult_training[adult_training$age >40, ] )\n",
        "\n",
        "#making the cross table for people over 40\n",
        "CrossTable(over40$sex, over40$marital.status)"
      ],
      "metadata": {
        "colab": {
          "base_uri": "https://localhost:8080/"
        },
        "outputId": "7c88c5cb-4bdb-4745-c222-68cb567ab223",
        "id": "G1dvFBOhzcFv"
      },
      "execution_count": 53,
      "outputs": [
        {
          "output_type": "stream",
          "name": "stdout",
          "text": [
            "\n",
            " \n",
            "   Cell Contents\n",
            "|-------------------------|\n",
            "|                       N |\n",
            "| Chi-square contribution |\n",
            "|           N / Row Total |\n",
            "|           N / Col Total |\n",
            "|         N / Table Total |\n",
            "|-------------------------|\n",
            "\n",
            " \n",
            "Total Observations in Table:  6144 \n",
            "\n",
            " \n",
            "             | over40$marital.status \n",
            "  over40$sex |              Divorced |    Married-civ-spouse | Married-spouse-absent |         Never-married |             Separated |               Widowed |             Row Total | \n",
            "-------------|-----------------------|-----------------------|-----------------------|-----------------------|-----------------------|-----------------------|-----------------------|\n",
            "      Female |                   720 |                   305 |                    38 |                   256 |                   133 |                   354 |                  1806 | \n",
            "             |               413.254 |               559.881 |                 6.779 |                46.303 |                85.561 |               420.043 |                       | \n",
            "             |                 0.399 |                 0.169 |                 0.021 |                 0.142 |                 0.074 |                 0.196 |                 0.294 | \n",
            "             |                 0.616 |                 0.083 |                 0.447 |                 0.448 |                 0.643 |                 0.833 |                       | \n",
            "             |                 0.117 |                 0.050 |                 0.006 |                 0.042 |                 0.022 |                 0.058 |                       | \n",
            "-------------|-----------------------|-----------------------|-----------------------|-----------------------|-----------------------|-----------------------|-----------------------|\n",
            "        Male |                   448 |                  3383 |                    47 |                   315 |                    74 |                    71 |                  4338 | \n",
            "             |               172.046 |               233.090 |                 2.822 |                19.277 |                35.621 |               174.872 |                       | \n",
            "             |                 0.103 |                 0.780 |                 0.011 |                 0.073 |                 0.017 |                 0.016 |                 0.706 | \n",
            "             |                 0.384 |                 0.917 |                 0.553 |                 0.552 |                 0.357 |                 0.167 |                       | \n",
            "             |                 0.073 |                 0.551 |                 0.008 |                 0.051 |                 0.012 |                 0.012 |                       | \n",
            "-------------|-----------------------|-----------------------|-----------------------|-----------------------|-----------------------|-----------------------|-----------------------|\n",
            "Column Total |                  1168 |                  3688 |                    85 |                   571 |                   207 |                   425 |                  6144 | \n",
            "             |                 0.190 |                 0.600 |                 0.014 |                 0.093 |                 0.034 |                 0.069 |                       | \n",
            "-------------|-----------------------|-----------------------|-----------------------|-----------------------|-----------------------|-----------------------|-----------------------|\n",
            "\n",
            " \n"
          ]
        }
      ]
    },
    {
      "cell_type": "code",
      "source": [
        "#creating histogram to see outliers \n",
        "hist(adult_training$education, col=\"green\")\n"
      ],
      "metadata": {
        "colab": {
          "base_uri": "https://localhost:8080/",
          "height": 437
        },
        "id": "3JpKi9lh1WSq",
        "outputId": "c57bab0c-486c-4ded-c319-c146e0cc3312"
      },
      "execution_count": 54,
      "outputs": [
        {
          "output_type": "display_data",
          "data": {
            "text/plain": [
              "Plot with title “Histogram of adult_training$education”"
            ],
            "image/png": "[encoded data removed]"
          },
          "metadata": {
            "image/png": {
              "width": 420,
              "height": 420
            }
          }
        }
      ]
    },
    {
      "cell_type": "markdown",
      "source": [
        "***Outliers in Education:***\n",
        "To find the outliers I first calculated some basic data(mean, var, and std). I then created a new value called scaled_education. After making that I was able to apply the three sigma rule and it told me the number of outliers. In all there are 113 outliers. "
      ],
      "metadata": {
        "id": "iYrWr5IW5Ffy"
      }
    },
    {
      "cell_type": "code",
      "source": [
        "#computing basic stats for education \n",
        "educationDF <- data.frame (\n",
        "  mean = mean(adult_training$education),\n",
        "  var = var(adult_training$education),\n",
        "  std = sd(adult_training$education)\n",
        ")\n",
        "\n",
        "educationDF"
      ],
      "metadata": {
        "colab": {
          "base_uri": "https://localhost:8080/",
          "height": 129
        },
        "id": "cb77iJS91u5w",
        "outputId": "22db76bf-bdd2-4d1f-cd6b-0e3eb439bbbe"
      },
      "execution_count": 55,
      "outputs": [
        {
          "output_type": "display_data",
          "data": {
            "text/html": [
              "<table class=\"dataframe\">\n",
              "<caption>A data.frame: 1 × 3</caption>\n",
              "<thead>\n",
              "\t<tr><th scope=col>mean</th><th scope=col>var</th><th scope=col>std</th></tr>\n",
              "\t<tr><th scope=col>&lt;dbl&gt;</th><th scope=col>&lt;dbl&gt;</th><th scope=col>&lt;dbl&gt;</th></tr>\n",
              "</thead>\n",
              "<tbody>\n",
              "\t<tr><td>10.0688</td><td>6.751147</td><td>2.598297</td></tr>\n",
              "</tbody>\n",
              "</table>\n"
            ],
            "text/markdown": "\nA data.frame: 1 × 3\n\n| mean &lt;dbl&gt; | var &lt;dbl&gt; | std &lt;dbl&gt; |\n|---|---|---|\n| 10.0688 | 6.751147 | 2.598297 |\n\n",
            "text/latex": "A data.frame: 1 × 3\n\\begin{tabular}{lll}\n mean & var & std\\\\\n <dbl> & <dbl> & <dbl>\\\\\n\\hline\n\t 10.0688 & 6.751147 & 2.598297\\\\\n\\end{tabular}\n",
            "text/plain": [
              "  mean    var      std     \n",
              "1 10.0688 6.751147 2.598297"
            ]
          },
          "metadata": {}
        }
      ]
    },
    {
      "cell_type": "code",
      "source": [
        "#making scaled education \n",
        "adult_training$scaled_education <- scale(x = adult_training$education)\n",
        "\n",
        "summary(adult_training$scaled_education)\n"
      ],
      "metadata": {
        "colab": {
          "base_uri": "https://localhost:8080/",
          "height": 139
        },
        "id": "Vk53PXaW2D73",
        "outputId": "c4837a85-868b-453d-de5c-98dd15cd982f"
      },
      "execution_count": 56,
      "outputs": [
        {
          "output_type": "display_data",
          "data": {
            "text/plain": [
              "       V1          \n",
              " Min.   :-3.49029  \n",
              " 1st Qu.:-0.41135  \n",
              " Median :-0.02648  \n",
              " Mean   : 0.00000  \n",
              " 3rd Qu.: 0.74326  \n",
              " Max.   : 2.28273  "
            ]
          },
          "metadata": {}
        }
      ]
    },
    {
      "cell_type": "code",
      "source": [
        "#three sigma rule \n",
        "three_sigma_rule <- (adult_training$scaled_education < -3 | adult_training$scaled_education > 3)\n",
        "\n",
        "#number of outliers\n",
        "cat (\"There are\", sum(three_sigma_rule), \"outliers \\n\\n\")"
      ],
      "metadata": {
        "colab": {
          "base_uri": "https://localhost:8080/"
        },
        "id": "0vHCm7wc2lMu",
        "outputId": "ea155ce6-4218-4fca-ad50-f2541e2d5148"
      },
      "execution_count": 57,
      "outputs": [
        {
          "output_type": "stream",
          "name": "stdout",
          "text": [
            "There are 113 outliers \n",
            "\n"
          ]
        }
      ]
    },
    {
      "cell_type": "markdown",
      "source": [
        "***Standardizing Age:***\n",
        "Next I moved on to age. I took the same approach as I did in the previous cells. I created scaled_age and with that i applyed the three sigma rule and it told me that there were 60 outliers. 90 (3.751227) being the highest"
      ],
      "metadata": {
        "id": "JGQev4oX52zq"
      }
    },
    {
      "cell_type": "code",
      "source": [
        "#Standardizing age\n",
        "\n",
        "#making sacled age\n",
        "adult_training$scaled_age <- scale(x = adult_training$age)\n",
        "\n",
        "summary(adult_training$scaled_age)"
      ],
      "metadata": {
        "colab": {
          "base_uri": "https://localhost:8080/",
          "height": 139
        },
        "id": "SYjZlDCb4W0l",
        "outputId": "0b0c1f82-092f-4fcf-e837-0cae6b100088"
      },
      "execution_count": 59,
      "outputs": [
        {
          "output_type": "display_data",
          "data": {
            "text/plain": [
              "       V1         \n",
              " Min.   :-1.5855  \n",
              " 1st Qu.:-0.7813  \n",
              " Median :-0.1234  \n",
              " Mean   : 0.0000  \n",
              " 3rd Qu.: 0.6808  \n",
              " Max.   : 3.7512  "
            ]
          },
          "metadata": {}
        }
      ]
    },
    {
      "cell_type": "code",
      "source": [
        "#three sigma rule \n",
        "three_sigma_rule <- (adult_training$scaled_age < -3 | adult_training$scaled_age > 3)\n",
        "\n",
        "#number of outliers\n",
        "cat (\"There are\", sum(three_sigma_rule), \"outliers \\n\")\n",
        "#most extream outlier\n",
        "cat (\"The most extreme outlier is\", max(adult_training$age[which(three_sigma_rule)]), \"(\", max(adult_training$scaled_age[which(three_sigma_rule)]),\")\")"
      ],
      "metadata": {
        "colab": {
          "base_uri": "https://localhost:8080/"
        },
        "id": "3mqh-x3X5NlB",
        "outputId": "ad09ead2-0f09-4f38-e84c-ebb7ff2e68b1"
      },
      "execution_count": 60,
      "outputs": [
        {
          "output_type": "stream",
          "name": "stdout",
          "text": [
            "There are 60 outliers \n",
            "The most extreme outlier is 90 ( 3.751227 )"
          ]
        }
      ]
    },
    {
      "cell_type": "markdown",
      "source": [
        "***80 and Over:*** lastly I made a new data set for people 80 and over applying the same tactics I used for over40. Then I construct a histogram which told me that there is an abnormaly high amount of 90 year old people in this data set. For age it is consistently going down but for some reason when it hits 90 it sky rockets up. This makes me think that maybe there was an error in making the data set."
      ],
      "metadata": {
        "id": "X_kpGUbc6sj_"
      }
    },
    {
      "cell_type": "code",
      "source": [
        "#making data frame for people >= 80 \n",
        "over80 <- data.frame(adult_training[adult_training$age >= 80, ] )\n",
        "\n",
        "#making histogram of people >= 80\n",
        "hist(over80$age, col=\"green\")"
      ],
      "metadata": {
        "colab": {
          "base_uri": "https://localhost:8080/",
          "height": 437
        },
        "id": "h6lzPoZG5T65",
        "outputId": "c6afcf26-2422-4cc4-96ce-74ea236c71b8"
      },
      "execution_count": 61,
      "outputs": [
        {
          "output_type": "display_data",
          "data": {
            "text/plain": [
              "Plot with title “Histogram of over80$age”"
            ],
            "image/png": "[encoded data removed]"
          },
          "metadata": {
            "image/png": {
              "width": 420,
              "height": 420
            }
          }
        }
      ]
    },
    {
      "cell_type": "code",
      "source": [
        ""
      ],
      "metadata": {
        "id": "Acmla0Ki7eJj"
      },
      "execution_count": null,
      "outputs": []
    }
  ]
}