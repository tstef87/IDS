{
  "nbformat": 4,
  "nbformat_minor": 0,
  "metadata": {
    "colab": {
      "name": "problem2_python.ipynb",
      "provenance": []
    },
    "kernelspec": {
      "name": "python3",
      "display_name": "Python 3"
    },
    "language_info": {
      "name": "python"
    }
  },
  "cells": [
    {
      "cell_type": "code",
      "execution_count": 1,
      "metadata": {
        "id": "q6QA_URW-heA"
      },
      "outputs": [],
      "source": [
        "#imports \n",
        "import pandas as pd \n",
        "from scipy import stats\n",
        "import matplotlib.pyplot as plt\n",
        "from sklearn.impute import SimpleImputer\n",
        "import numpy as np\n",
        "\n"
      ]
    },
    {
      "cell_type": "code",
      "source": [
        "#reading in the data \n",
        "nutrition_subset = pd.read_csv(\"https://raw.githubusercontent.com/bforoura/IDS/main/HW4/nutrition_subset.csv\")\n",
        "\n",
        "nutrition_subset"
      ],
      "metadata": {
        "colab": {
          "base_uri": "https://localhost:8080/",
          "height": 424
        },
        "id": "7Juyp8gd-s93",
        "outputId": "8b6a35e4-fb3e-41bf-8a11-839aee91eb3b"
      },
      "execution_count": 2,
      "outputs": [
        {
          "output_type": "execute_result",
          "data": {
            "text/plain": [
              "                                  food item  weight_in_grams  saturated_fat  \\\n",
              "0    GELATIN; DRY                  1 ENVELP             7.00            0.0   \n",
              "1    SEAWEED; SPIRULINA; DRIED     1 OZ                28.35            0.8   \n",
              "2    YEAST; BAKERS; DRY; ACTIVE    1 PKG                7.00            0.0   \n",
              "3    PARMESAN CHEESE; GRATED       1 OZ                28.35            5.4   \n",
              "4    PARMESAN CHEESE; GRATED       1 CUP              100.00           19.1   \n",
              "..                                      ...              ...            ...   \n",
              "956  COFFEE; BREWED                6 FL OZ            180.00            0.0   \n",
              "957  TEA; BREWED                   8 FL OZ            240.00            0.0   \n",
              "958  TEA; INSTANT;PREPRD;UNSWEETEND8 FL OZ            241.00            0.0   \n",
              "959  LETTUCE; BUTTERHEAD; RAW;LEAVE1 LEAF              15.00            0.0   \n",
              "960  SALT                          1 TSP                5.50            0.0   \n",
              "\n",
              "     cholesterol  \n",
              "0              0  \n",
              "1              0  \n",
              "2              0  \n",
              "3             22  \n",
              "4             79  \n",
              "..           ...  \n",
              "956            0  \n",
              "957            0  \n",
              "958            0  \n",
              "959            0  \n",
              "960            0  \n",
              "\n",
              "[961 rows x 4 columns]"
            ],
            "text/html": [
              "\n",
              "  <div id=\"df-ed1f76da-1fd4-46ec-8609-9dcc8f69447d\">\n",
              "    <div class=\"colab-df-container\">\n",
              "      <div>\n",
              "<style scoped>\n",
              "    .dataframe tbody tr th:only-of-type {\n",
              "        vertical-align: middle;\n",
              "    }\n",
              "\n",
              "    .dataframe tbody tr th {\n",
              "        vertical-align: top;\n",
              "    }\n",
              "\n",
              "    .dataframe thead th {\n",
              "        text-align: right;\n",
              "    }\n",
              "</style>\n",
              "<table border=\"1\" class=\"dataframe\">\n",
              "  <thead>\n",
              "    <tr style=\"text-align: right;\">\n",
              "      <th></th>\n",
              "      <th>food item</th>\n",
              "      <th>weight_in_grams</th>\n",
              "      <th>saturated_fat</th>\n",
              "      <th>cholesterol</th>\n",
              "    </tr>\n",
              "  </thead>\n",
              "  <tbody>\n",
              "    <tr>\n",
              "      <th>0</th>\n",
              "      <td>GELATIN; DRY                  1 ENVELP</td>\n",
              "      <td>7.00</td>\n",
              "      <td>0.0</td>\n",
              "      <td>0</td>\n",
              "    </tr>\n",
              "    <tr>\n",
              "      <th>1</th>\n",
              "      <td>SEAWEED; SPIRULINA; DRIED     1 OZ</td>\n",
              "      <td>28.35</td>\n",
              "      <td>0.8</td>\n",
              "      <td>0</td>\n",
              "    </tr>\n",
              "    <tr>\n",
              "      <th>2</th>\n",
              "      <td>YEAST; BAKERS; DRY; ACTIVE    1 PKG</td>\n",
              "      <td>7.00</td>\n",
              "      <td>0.0</td>\n",
              "      <td>0</td>\n",
              "    </tr>\n",
              "    <tr>\n",
              "      <th>3</th>\n",
              "      <td>PARMESAN CHEESE; GRATED       1 OZ</td>\n",
              "      <td>28.35</td>\n",
              "      <td>5.4</td>\n",
              "      <td>22</td>\n",
              "    </tr>\n",
              "    <tr>\n",
              "      <th>4</th>\n",
              "      <td>PARMESAN CHEESE; GRATED       1 CUP</td>\n",
              "      <td>100.00</td>\n",
              "      <td>19.1</td>\n",
              "      <td>79</td>\n",
              "    </tr>\n",
              "    <tr>\n",
              "      <th>...</th>\n",
              "      <td>...</td>\n",
              "      <td>...</td>\n",
              "      <td>...</td>\n",
              "      <td>...</td>\n",
              "    </tr>\n",
              "    <tr>\n",
              "      <th>956</th>\n",
              "      <td>COFFEE; BREWED                6 FL OZ</td>\n",
              "      <td>180.00</td>\n",
              "      <td>0.0</td>\n",
              "      <td>0</td>\n",
              "    </tr>\n",
              "    <tr>\n",
              "      <th>957</th>\n",
              "      <td>TEA; BREWED                   8 FL OZ</td>\n",
              "      <td>240.00</td>\n",
              "      <td>0.0</td>\n",
              "      <td>0</td>\n",
              "    </tr>\n",
              "    <tr>\n",
              "      <th>958</th>\n",
              "      <td>TEA; INSTANT;PREPRD;UNSWEETEND8 FL OZ</td>\n",
              "      <td>241.00</td>\n",
              "      <td>0.0</td>\n",
              "      <td>0</td>\n",
              "    </tr>\n",
              "    <tr>\n",
              "      <th>959</th>\n",
              "      <td>LETTUCE; BUTTERHEAD; RAW;LEAVE1 LEAF</td>\n",
              "      <td>15.00</td>\n",
              "      <td>0.0</td>\n",
              "      <td>0</td>\n",
              "    </tr>\n",
              "    <tr>\n",
              "      <th>960</th>\n",
              "      <td>SALT                          1 TSP</td>\n",
              "      <td>5.50</td>\n",
              "      <td>0.0</td>\n",
              "      <td>0</td>\n",
              "    </tr>\n",
              "  </tbody>\n",
              "</table>\n",
              "<p>961 rows × 4 columns</p>\n",
              "</div>\n",
              "      <button class=\"colab-df-convert\" onclick=\"convertToInteractive('df-ed1f76da-1fd4-46ec-8609-9dcc8f69447d')\"\n",
              "              title=\"Convert this dataframe to an interactive table.\"\n",
              "              style=\"display:none;\">\n",
              "        \n",
              "  <svg xmlns=\"http://www.w3.org/2000/svg\" height=\"24px\"viewBox=\"0 0 24 24\"\n",
              "       width=\"24px\">\n",
              "    <path d=\"M0 0h24v24H0V0z\" fill=\"none\"/>\n",
              "    <path d=\"M18.56 5.44l.94 2.06.94-2.06 2.06-.94-2.06-.94-.94-2.06-.94 2.06-2.06.94zm-11 1L8.5 8.5l.94-2.06 2.06-.94-2.06-.94L8.5 2.5l-.94 2.06-2.06.94zm10 10l.94 2.06.94-2.06 2.06-.94-2.06-.94-.94-2.06-.94 2.06-2.06.94z\"/><path d=\"M17.41 7.96l-1.37-1.37c-.4-.4-.92-.59-1.43-.59-.52 0-1.04.2-1.43.59L10.3 9.45l-7.72 7.72c-.78.78-.78 2.05 0 2.83L4 21.41c.39.39.9.59 1.41.59.51 0 1.02-.2 1.41-.59l7.78-7.78 2.81-2.81c.8-.78.8-2.07 0-2.86zM5.41 20L4 18.59l7.72-7.72 1.47 1.35L5.41 20z\"/>\n",
              "  </svg>\n",
              "      </button>\n",
              "      \n",
              "  <style>\n",
              "    .colab-df-container {\n",
              "      display:flex;\n",
              "      flex-wrap:wrap;\n",
              "      gap: 12px;\n",
              "    }\n",
              "\n",
              "    .colab-df-convert {\n",
              "      background-color: #E8F0FE;\n",
              "      border: none;\n",
              "      border-radius: 50%;\n",
              "      cursor: pointer;\n",
              "      display: none;\n",
              "      fill: #1967D2;\n",
              "      height: 32px;\n",
              "      padding: 0 0 0 0;\n",
              "      width: 32px;\n",
              "    }\n",
              "\n",
              "    .colab-df-convert:hover {\n",
              "      background-color: #E2EBFA;\n",
              "      box-shadow: 0px 1px 2px rgba(60, 64, 67, 0.3), 0px 1px 3px 1px rgba(60, 64, 67, 0.15);\n",
              "      fill: #174EA6;\n",
              "    }\n",
              "\n",
              "    [theme=dark] .colab-df-convert {\n",
              "      background-color: #3B4455;\n",
              "      fill: #D2E3FC;\n",
              "    }\n",
              "\n",
              "    [theme=dark] .colab-df-convert:hover {\n",
              "      background-color: #434B5C;\n",
              "      box-shadow: 0px 1px 3px 1px rgba(0, 0, 0, 0.15);\n",
              "      filter: drop-shadow(0px 1px 2px rgba(0, 0, 0, 0.3));\n",
              "      fill: #FFFFFF;\n",
              "    }\n",
              "  </style>\n",
              "\n",
              "      <script>\n",
              "        const buttonEl =\n",
              "          document.querySelector('#df-ed1f76da-1fd4-46ec-8609-9dcc8f69447d button.colab-df-convert');\n",
              "        buttonEl.style.display =\n",
              "          google.colab.kernel.accessAllowed ? 'block' : 'none';\n",
              "\n",
              "        async function convertToInteractive(key) {\n",
              "          const element = document.querySelector('#df-ed1f76da-1fd4-46ec-8609-9dcc8f69447d');\n",
              "          const dataTable =\n",
              "            await google.colab.kernel.invokeFunction('convertToInteractive',\n",
              "                                                     [key], {});\n",
              "          if (!dataTable) return;\n",
              "\n",
              "          const docLinkHtml = 'Like what you see? Visit the ' +\n",
              "            '<a target=\"_blank\" href=https://colab.research.google.com/notebooks/data_table.ipynb>data table notebook</a>'\n",
              "            + ' to learn more about interactive tables.';\n",
              "          element.innerHTML = '';\n",
              "          dataTable['output_type'] = 'display_data';\n",
              "          await google.colab.output.renderOutput(dataTable, element);\n",
              "          const docLink = document.createElement('div');\n",
              "          docLink.innerHTML = docLinkHtml;\n",
              "          element.appendChild(docLink);\n",
              "        }\n",
              "      </script>\n",
              "    </div>\n",
              "  </div>\n",
              "  "
            ]
          },
          "metadata": {},
          "execution_count": 2
        }
      ]
    },
    {
      "cell_type": "code",
      "source": [
        "#top 5 foods with highest saturated fats \n",
        "nutrition_subset.sort_values(by = ['saturated_fat'], ascending=False).iloc[0:5]"
      ],
      "metadata": {
        "colab": {
          "base_uri": "https://localhost:8080/",
          "height": 206
        },
        "id": "RIDJyK-R-4MD",
        "outputId": "0c431aa8-9d02-4a38-e958-f9eac8ff0cd4"
      },
      "execution_count": 3,
      "outputs": [
        {
          "output_type": "execute_result",
          "data": {
            "text/plain": [
              "                                  food item  weight_in_grams  saturated_fat  \\\n",
              "378  CHEESECAKE                    1 CAKE             1110.0          119.9   \n",
              "535  ICE CREAM; VANLLA; RICH 16% FT1/2 GAL            1188.0          118.3   \n",
              "458  YELLOWCAKE W/ CHOCFRSTNG;COMML1 CAKE             1108.0           92.0   \n",
              "581  CREME PIE                     1 PIE               910.0           90.1   \n",
              "890  LARD                          1 CUP               205.0           80.4   \n",
              "\n",
              "     cholesterol  \n",
              "378         2053  \n",
              "535          703  \n",
              "458          609  \n",
              "581           46  \n",
              "890          195  "
            ],
            "text/html": [
              "\n",
              "  <div id=\"df-45168512-22c1-40bb-b25d-7175e9984c6b\">\n",
              "    <div class=\"colab-df-container\">\n",
              "      <div>\n",
              "<style scoped>\n",
              "    .dataframe tbody tr th:only-of-type {\n",
              "        vertical-align: middle;\n",
              "    }\n",
              "\n",
              "    .dataframe tbody tr th {\n",
              "        vertical-align: top;\n",
              "    }\n",
              "\n",
              "    .dataframe thead th {\n",
              "        text-align: right;\n",
              "    }\n",
              "</style>\n",
              "<table border=\"1\" class=\"dataframe\">\n",
              "  <thead>\n",
              "    <tr style=\"text-align: right;\">\n",
              "      <th></th>\n",
              "      <th>food item</th>\n",
              "      <th>weight_in_grams</th>\n",
              "      <th>saturated_fat</th>\n",
              "      <th>cholesterol</th>\n",
              "    </tr>\n",
              "  </thead>\n",
              "  <tbody>\n",
              "    <tr>\n",
              "      <th>378</th>\n",
              "      <td>CHEESECAKE                    1 CAKE</td>\n",
              "      <td>1110.0</td>\n",
              "      <td>119.9</td>\n",
              "      <td>2053</td>\n",
              "    </tr>\n",
              "    <tr>\n",
              "      <th>535</th>\n",
              "      <td>ICE CREAM; VANLLA; RICH 16% FT1/2 GAL</td>\n",
              "      <td>1188.0</td>\n",
              "      <td>118.3</td>\n",
              "      <td>703</td>\n",
              "    </tr>\n",
              "    <tr>\n",
              "      <th>458</th>\n",
              "      <td>YELLOWCAKE W/ CHOCFRSTNG;COMML1 CAKE</td>\n",
              "      <td>1108.0</td>\n",
              "      <td>92.0</td>\n",
              "      <td>609</td>\n",
              "    </tr>\n",
              "    <tr>\n",
              "      <th>581</th>\n",
              "      <td>CREME PIE                     1 PIE</td>\n",
              "      <td>910.0</td>\n",
              "      <td>90.1</td>\n",
              "      <td>46</td>\n",
              "    </tr>\n",
              "    <tr>\n",
              "      <th>890</th>\n",
              "      <td>LARD                          1 CUP</td>\n",
              "      <td>205.0</td>\n",
              "      <td>80.4</td>\n",
              "      <td>195</td>\n",
              "    </tr>\n",
              "  </tbody>\n",
              "</table>\n",
              "</div>\n",
              "      <button class=\"colab-df-convert\" onclick=\"convertToInteractive('df-45168512-22c1-40bb-b25d-7175e9984c6b')\"\n",
              "              title=\"Convert this dataframe to an interactive table.\"\n",
              "              style=\"display:none;\">\n",
              "        \n",
              "  <svg xmlns=\"http://www.w3.org/2000/svg\" height=\"24px\"viewBox=\"0 0 24 24\"\n",
              "       width=\"24px\">\n",
              "    <path d=\"M0 0h24v24H0V0z\" fill=\"none\"/>\n",
              "    <path d=\"M18.56 5.44l.94 2.06.94-2.06 2.06-.94-2.06-.94-.94-2.06-.94 2.06-2.06.94zm-11 1L8.5 8.5l.94-2.06 2.06-.94-2.06-.94L8.5 2.5l-.94 2.06-2.06.94zm10 10l.94 2.06.94-2.06 2.06-.94-2.06-.94-.94-2.06-.94 2.06-2.06.94z\"/><path d=\"M17.41 7.96l-1.37-1.37c-.4-.4-.92-.59-1.43-.59-.52 0-1.04.2-1.43.59L10.3 9.45l-7.72 7.72c-.78.78-.78 2.05 0 2.83L4 21.41c.39.39.9.59 1.41.59.51 0 1.02-.2 1.41-.59l7.78-7.78 2.81-2.81c.8-.78.8-2.07 0-2.86zM5.41 20L4 18.59l7.72-7.72 1.47 1.35L5.41 20z\"/>\n",
              "  </svg>\n",
              "      </button>\n",
              "      \n",
              "  <style>\n",
              "    .colab-df-container {\n",
              "      display:flex;\n",
              "      flex-wrap:wrap;\n",
              "      gap: 12px;\n",
              "    }\n",
              "\n",
              "    .colab-df-convert {\n",
              "      background-color: #E8F0FE;\n",
              "      border: none;\n",
              "      border-radius: 50%;\n",
              "      cursor: pointer;\n",
              "      display: none;\n",
              "      fill: #1967D2;\n",
              "      height: 32px;\n",
              "      padding: 0 0 0 0;\n",
              "      width: 32px;\n",
              "    }\n",
              "\n",
              "    .colab-df-convert:hover {\n",
              "      background-color: #E2EBFA;\n",
              "      box-shadow: 0px 1px 2px rgba(60, 64, 67, 0.3), 0px 1px 3px 1px rgba(60, 64, 67, 0.15);\n",
              "      fill: #174EA6;\n",
              "    }\n",
              "\n",
              "    [theme=dark] .colab-df-convert {\n",
              "      background-color: #3B4455;\n",
              "      fill: #D2E3FC;\n",
              "    }\n",
              "\n",
              "    [theme=dark] .colab-df-convert:hover {\n",
              "      background-color: #434B5C;\n",
              "      box-shadow: 0px 1px 3px 1px rgba(0, 0, 0, 0.15);\n",
              "      filter: drop-shadow(0px 1px 2px rgba(0, 0, 0, 0.3));\n",
              "      fill: #FFFFFF;\n",
              "    }\n",
              "  </style>\n",
              "\n",
              "      <script>\n",
              "        const buttonEl =\n",
              "          document.querySelector('#df-45168512-22c1-40bb-b25d-7175e9984c6b button.colab-df-convert');\n",
              "        buttonEl.style.display =\n",
              "          google.colab.kernel.accessAllowed ? 'block' : 'none';\n",
              "\n",
              "        async function convertToInteractive(key) {\n",
              "          const element = document.querySelector('#df-45168512-22c1-40bb-b25d-7175e9984c6b');\n",
              "          const dataTable =\n",
              "            await google.colab.kernel.invokeFunction('convertToInteractive',\n",
              "                                                     [key], {});\n",
              "          if (!dataTable) return;\n",
              "\n",
              "          const docLinkHtml = 'Like what you see? Visit the ' +\n",
              "            '<a target=\"_blank\" href=https://colab.research.google.com/notebooks/data_table.ipynb>data table notebook</a>'\n",
              "            + ' to learn more about interactive tables.';\n",
              "          element.innerHTML = '';\n",
              "          dataTable['output_type'] = 'display_data';\n",
              "          await google.colab.output.renderOutput(dataTable, element);\n",
              "          const docLink = document.createElement('div');\n",
              "          docLink.innerHTML = docLinkHtml;\n",
              "          element.appendChild(docLink);\n",
              "        }\n",
              "      </script>\n",
              "    </div>\n",
              "  </div>\n",
              "  "
            ]
          },
          "metadata": {},
          "execution_count": 3
        }
      ]
    },
    {
      "cell_type": "code",
      "source": [
        "#creating saturated fats per gram coloum \n",
        "nutrition_subset['saturared_fat_per_gram'] = nutrition_subset.saturated_fat / nutrition_subset.weight_in_grams\n",
        "\n",
        "#top 5 highest saturated fat per gram foods\n",
        "nutrition_subset.sort_values(by=['saturared_fat_per_gram'], ascending=False).iloc[0:5]"
      ],
      "metadata": {
        "colab": {
          "base_uri": "https://localhost:8080/",
          "height": 206
        },
        "id": "VTuMjfje_XGN",
        "outputId": "85724bdb-c946-44e1-8fee-cac54f60b26a"
      },
      "execution_count": 4,
      "outputs": [
        {
          "output_type": "execute_result",
          "data": {
            "text/plain": [
              "                                  food item  weight_in_grams  saturated_fat  \\\n",
              "908  BUTTER; SALTED                1 TBSP               14.0            7.1   \n",
              "909  BUTTER; UNSALTED              1 TBSP               14.0            7.1   \n",
              "710  BUTTER; UNSALTED              1/2 CUP             113.0           57.1   \n",
              "709  BUTTER; SALTED                1/2 CUP             113.0           57.1   \n",
              "913  BUTTER; UNSALTED              1 PAT                 5.0            2.5   \n",
              "\n",
              "     cholesterol  saturared_fat_per_gram  \n",
              "908           31                0.507143  \n",
              "909           31                0.507143  \n",
              "710          247                0.505310  \n",
              "709          247                0.505310  \n",
              "913           11                0.500000  "
            ],
            "text/html": [
              "\n",
              "  <div id=\"df-e91267b5-a500-4ca9-a524-2f9916ebe1ce\">\n",
              "    <div class=\"colab-df-container\">\n",
              "      <div>\n",
              "<style scoped>\n",
              "    .dataframe tbody tr th:only-of-type {\n",
              "        vertical-align: middle;\n",
              "    }\n",
              "\n",
              "    .dataframe tbody tr th {\n",
              "        vertical-align: top;\n",
              "    }\n",
              "\n",
              "    .dataframe thead th {\n",
              "        text-align: right;\n",
              "    }\n",
              "</style>\n",
              "<table border=\"1\" class=\"dataframe\">\n",
              "  <thead>\n",
              "    <tr style=\"text-align: right;\">\n",
              "      <th></th>\n",
              "      <th>food item</th>\n",
              "      <th>weight_in_grams</th>\n",
              "      <th>saturated_fat</th>\n",
              "      <th>cholesterol</th>\n",
              "      <th>saturared_fat_per_gram</th>\n",
              "    </tr>\n",
              "  </thead>\n",
              "  <tbody>\n",
              "    <tr>\n",
              "      <th>908</th>\n",
              "      <td>BUTTER; SALTED                1 TBSP</td>\n",
              "      <td>14.0</td>\n",
              "      <td>7.1</td>\n",
              "      <td>31</td>\n",
              "      <td>0.507143</td>\n",
              "    </tr>\n",
              "    <tr>\n",
              "      <th>909</th>\n",
              "      <td>BUTTER; UNSALTED              1 TBSP</td>\n",
              "      <td>14.0</td>\n",
              "      <td>7.1</td>\n",
              "      <td>31</td>\n",
              "      <td>0.507143</td>\n",
              "    </tr>\n",
              "    <tr>\n",
              "      <th>710</th>\n",
              "      <td>BUTTER; UNSALTED              1/2 CUP</td>\n",
              "      <td>113.0</td>\n",
              "      <td>57.1</td>\n",
              "      <td>247</td>\n",
              "      <td>0.505310</td>\n",
              "    </tr>\n",
              "    <tr>\n",
              "      <th>709</th>\n",
              "      <td>BUTTER; SALTED                1/2 CUP</td>\n",
              "      <td>113.0</td>\n",
              "      <td>57.1</td>\n",
              "      <td>247</td>\n",
              "      <td>0.505310</td>\n",
              "    </tr>\n",
              "    <tr>\n",
              "      <th>913</th>\n",
              "      <td>BUTTER; UNSALTED              1 PAT</td>\n",
              "      <td>5.0</td>\n",
              "      <td>2.5</td>\n",
              "      <td>11</td>\n",
              "      <td>0.500000</td>\n",
              "    </tr>\n",
              "  </tbody>\n",
              "</table>\n",
              "</div>\n",
              "      <button class=\"colab-df-convert\" onclick=\"convertToInteractive('df-e91267b5-a500-4ca9-a524-2f9916ebe1ce')\"\n",
              "              title=\"Convert this dataframe to an interactive table.\"\n",
              "              style=\"display:none;\">\n",
              "        \n",
              "  <svg xmlns=\"http://www.w3.org/2000/svg\" height=\"24px\"viewBox=\"0 0 24 24\"\n",
              "       width=\"24px\">\n",
              "    <path d=\"M0 0h24v24H0V0z\" fill=\"none\"/>\n",
              "    <path d=\"M18.56 5.44l.94 2.06.94-2.06 2.06-.94-2.06-.94-.94-2.06-.94 2.06-2.06.94zm-11 1L8.5 8.5l.94-2.06 2.06-.94-2.06-.94L8.5 2.5l-.94 2.06-2.06.94zm10 10l.94 2.06.94-2.06 2.06-.94-2.06-.94-.94-2.06-.94 2.06-2.06.94z\"/><path d=\"M17.41 7.96l-1.37-1.37c-.4-.4-.92-.59-1.43-.59-.52 0-1.04.2-1.43.59L10.3 9.45l-7.72 7.72c-.78.78-.78 2.05 0 2.83L4 21.41c.39.39.9.59 1.41.59.51 0 1.02-.2 1.41-.59l7.78-7.78 2.81-2.81c.8-.78.8-2.07 0-2.86zM5.41 20L4 18.59l7.72-7.72 1.47 1.35L5.41 20z\"/>\n",
              "  </svg>\n",
              "      </button>\n",
              "      \n",
              "  <style>\n",
              "    .colab-df-container {\n",
              "      display:flex;\n",
              "      flex-wrap:wrap;\n",
              "      gap: 12px;\n",
              "    }\n",
              "\n",
              "    .colab-df-convert {\n",
              "      background-color: #E8F0FE;\n",
              "      border: none;\n",
              "      border-radius: 50%;\n",
              "      cursor: pointer;\n",
              "      display: none;\n",
              "      fill: #1967D2;\n",
              "      height: 32px;\n",
              "      padding: 0 0 0 0;\n",
              "      width: 32px;\n",
              "    }\n",
              "\n",
              "    .colab-df-convert:hover {\n",
              "      background-color: #E2EBFA;\n",
              "      box-shadow: 0px 1px 2px rgba(60, 64, 67, 0.3), 0px 1px 3px 1px rgba(60, 64, 67, 0.15);\n",
              "      fill: #174EA6;\n",
              "    }\n",
              "\n",
              "    [theme=dark] .colab-df-convert {\n",
              "      background-color: #3B4455;\n",
              "      fill: #D2E3FC;\n",
              "    }\n",
              "\n",
              "    [theme=dark] .colab-df-convert:hover {\n",
              "      background-color: #434B5C;\n",
              "      box-shadow: 0px 1px 3px 1px rgba(0, 0, 0, 0.15);\n",
              "      filter: drop-shadow(0px 1px 2px rgba(0, 0, 0, 0.3));\n",
              "      fill: #FFFFFF;\n",
              "    }\n",
              "  </style>\n",
              "\n",
              "      <script>\n",
              "        const buttonEl =\n",
              "          document.querySelector('#df-e91267b5-a500-4ca9-a524-2f9916ebe1ce button.colab-df-convert');\n",
              "        buttonEl.style.display =\n",
              "          google.colab.kernel.accessAllowed ? 'block' : 'none';\n",
              "\n",
              "        async function convertToInteractive(key) {\n",
              "          const element = document.querySelector('#df-e91267b5-a500-4ca9-a524-2f9916ebe1ce');\n",
              "          const dataTable =\n",
              "            await google.colab.kernel.invokeFunction('convertToInteractive',\n",
              "                                                     [key], {});\n",
              "          if (!dataTable) return;\n",
              "\n",
              "          const docLinkHtml = 'Like what you see? Visit the ' +\n",
              "            '<a target=\"_blank\" href=https://colab.research.google.com/notebooks/data_table.ipynb>data table notebook</a>'\n",
              "            + ' to learn more about interactive tables.';\n",
              "          element.innerHTML = '';\n",
              "          dataTable['output_type'] = 'display_data';\n",
              "          await google.colab.output.renderOutput(dataTable, element);\n",
              "          const docLink = document.createElement('div');\n",
              "          docLink.innerHTML = docLinkHtml;\n",
              "          element.appendChild(docLink);\n",
              "        }\n",
              "      </script>\n",
              "    </div>\n",
              "  </div>\n",
              "  "
            ]
          },
          "metadata": {},
          "execution_count": 4
        }
      ]
    },
    {
      "cell_type": "code",
      "source": [
        "#plots\n",
        "nutrition_subset['scaled_saturated_fat_per_gram'] = stats.zscore(nutrition_subset['saturared_fat_per_gram'], nan_policy='omit')\n",
        "\n",
        "#unscaled plot\n",
        "nutrition_subset.saturared_fat_per_gram.plot.density(color=\"red\")\n",
        "plt.title('Density plot for Unscaled saturated fat per gram')\n",
        "plt.show()\n",
        "\n",
        "#scaled plot \n",
        "nutrition_subset.scaled_saturated_fat_per_gram.plot.density(color=\"blue\")\n",
        "plt.title('Density plot for Scaled saturated fat per gram')\n",
        "plt.show()\n",
        "\n"
      ],
      "metadata": {
        "colab": {
          "base_uri": "https://localhost:8080/",
          "height": 545
        },
        "id": "rD0p9XyQAgwE",
        "outputId": "4434adf7-e956-468a-a669-4c1739ca2564"
      },
      "execution_count": 6,
      "outputs": [
        {
          "output_type": "display_data",
          "data": {
            "text/plain": [
              "<Figure size 432x288 with 1 Axes>"
            ],
            "image/png": "[encoded data removed]"
          },
          "metadata": {
            "needs_background": "light"
          }
        },
        {
          "output_type": "display_data",
          "data": {
            "text/plain": [
              "<Figure size 432x288 with 1 Axes>"
            ],
            "image/png": "[encoded data removed]"
          },
          "metadata": {
            "needs_background": "light"
          }
        }
      ]
    },
    {
      "cell_type": "code",
      "source": [
        "#changing all NA values\n",
        "imputer = SimpleImputer(missing_values = np.nan, strategy='median')\n",
        "\n",
        "#making all the numerical missing values equal to the median of that columns\n",
        "nutrition_subset.weight_in_grams = imputer.fit_transform(nutrition_subset['weight_in_grams'].values.reshape(-1,1))\n",
        "nutrition_subset.saturated_fat = imputer.fit_transform(nutrition_subset['saturated_fat'].values.reshape(-1,1))\n",
        "nutrition_subset.cholesterol = imputer.fit_transform(nutrition_subset['cholesterol'].values.reshape(-1,1))\n",
        "\n"
      ],
      "metadata": {
        "id": "5gaicBHOAu7a"
      },
      "execution_count": null,
      "outputs": []
    },
    {
      "cell_type": "code",
      "source": [
        "#weight in grams \n",
        "\n",
        "nutrition_subset['scaled_weight_in_grams'] = stats.zscore(nutrition_subset['weight_in_grams'], nan_policy='omit')\n",
        "\n",
        "#unscaled plot\n",
        "nutrition_subset.saturared_fat_per_gram.plot.density(color=\"red\")\n",
        "plt.title('Density plot for Unscaled weight in grams')\n",
        "plt.show()\n",
        "\n",
        "#scaled plot \n",
        "nutrition_subset.scaled_saturated_fat_per_gram.plot.density(color=\"blue\")\n",
        "plt.title('Density plot for Scaled weight in grams')\n",
        "plt.show()"
      ],
      "metadata": {
        "colab": {
          "base_uri": "https://localhost:8080/",
          "height": 545
        },
        "id": "NyBJZRDqEskL",
        "outputId": "769485af-c6e9-4db3-8066-02594b191b04"
      },
      "execution_count": null,
      "outputs": [
        {
          "output_type": "display_data",
          "data": {
            "text/plain": [
              "<Figure size 432x288 with 1 Axes>"
            ],
            "image/png": "[encoded data removed]"
          },
          "metadata": {
            "needs_background": "light"
          }
        },
        {
          "output_type": "display_data",
          "data": {
            "text/plain": [
              "<Figure size 432x288 with 1 Axes>"
            ],
            "image/png": "[encoded data removed]"
          },
          "metadata": {
            "needs_background": "light"
          }
        }
      ]
    },
    {
      "cell_type": "code",
      "source": [
        "#saturated fats \n",
        "\n",
        "nutrition_subset['scaled_saturated_fat'] = stats.zscore(nutrition_subset['saturated_fat'], nan_policy='omit')\n",
        "\n",
        "#unscaled plots \n",
        "nutrition_subset.saturated_fat.plot.density(color=\"red\")\n",
        "plt.title('Density plot for Unscaled saturated fat')\n",
        "plt.show()\n",
        "\n",
        "#scaled plots\n",
        "nutrition_subset.scaled_saturated_fat.plot.density(color=\"blue\")\n",
        "plt.title('Density plot for Scaled saturated fat')\n",
        "plt.show()"
      ],
      "metadata": {
        "colab": {
          "base_uri": "https://localhost:8080/",
          "height": 545
        },
        "id": "NlcQC-JLGY1Z",
        "outputId": "0d452d2a-d2ea-4bc7-e47a-4a51f9d8cd99"
      },
      "execution_count": null,
      "outputs": [
        {
          "output_type": "display_data",
          "data": {
            "text/plain": [
              "<Figure size 432x288 with 1 Axes>"
            ],
            "image/png": "[encoded data removed]"
          },
          "metadata": {
            "needs_background": "light"
          }
        },
        {
          "output_type": "display_data",
          "data": {
            "text/plain": [
              "<Figure size 432x288 with 1 Axes>"
            ],
            "image/png": "[encoded data removed]"
          },
          "metadata": {
            "needs_background": "light"
          }
        }
      ]
    },
    {
      "cell_type": "code",
      "source": [
        "#cholesterol\n",
        "\n",
        "nutrition_subset['scaled_cholesterol'] = stats.zscore(nutrition_subset['cholesterol'], nan_policy='omit')\n",
        "\n",
        "#unscaled plots \n",
        "nutrition_subset.cholesterol.plot.density(color=\"red\")\n",
        "plt.title('Density plot for Unscaled cholesterol')\n",
        "plt.show()\n",
        "\n",
        "#scaled plot \n",
        "nutrition_subset.scaled_cholesterol.plot.density(color=\"blue\")\n",
        "plt.title('Density plot for Scaled cholesterol')\n",
        "plt.show()"
      ],
      "metadata": {
        "colab": {
          "base_uri": "https://localhost:8080/",
          "height": 545
        },
        "id": "AigKzsf4GZhA",
        "outputId": "4ce0928d-327f-434c-9e36-10d600228cb0"
      },
      "execution_count": null,
      "outputs": [
        {
          "output_type": "display_data",
          "data": {
            "text/plain": [
              "<Figure size 432x288 with 1 Axes>"
            ],
            "image/png": "[encoded data removed]"
          },
          "metadata": {
            "needs_background": "light"
          }
        },
        {
          "output_type": "display_data",
          "data": {
            "text/plain": [
              "<Figure size 432x288 with 1 Axes>"
            ],
            "image/png": "[encoded data removed]"
          },
          "metadata": {
            "needs_background": "light"
          }
        }
      ]
    },
    {
      "cell_type": "code",
      "source": [
        ""
      ],
      "metadata": {
        "id": "huPzIYV0GZ3D"
      },
      "execution_count": null,
      "outputs": []
    }
  ]
}