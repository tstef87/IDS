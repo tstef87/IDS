{
  "nbformat": 4,
  "nbformat_minor": 0,
  "metadata": {
    "colab": {
      "name": "problem2_R.ipynb",
      "provenance": [],
      "authorship_tag": "ABX9TyMjPkTAC+rUKqXAoC/OFpTf",
      "include_colab_link": true
    },
    "kernelspec": {
      "name": "ir",
      "display_name": "R"
    },
    "language_info": {
      "name": "R"
    }
  },
  "cells": [
    {
      "cell_type": "markdown",
      "metadata": {
        "id": "view-in-github",
        "colab_type": "text"
      },
      "source": [
        "<a href=\"https://colab.research.google.com/github/tstef87/IDS/blob/main/HW4/problem2_R.ipynb\" target=\"_parent\"><img src=\"https://colab.research.google.com/assets/colab-badge.svg\" alt=\"Open In Colab\"/></a>"
      ]
    },
    {
      "cell_type": "code",
      "execution_count": 57,
      "metadata": {
        "colab": {
          "base_uri": "https://localhost:8080/"
        },
        "outputId": "fbcac818-6a63-45f1-839e-485576b6ead3",
        "id": "tHN5KUVoASP9"
      },
      "outputs": [
        {
          "output_type": "stream",
          "name": "stderr",
          "text": [
            "\u001b[1mRows: \u001b[22m\u001b[34m961\u001b[39m \u001b[1mColumns: \u001b[22m\u001b[34m4\u001b[39m\n",
            "\u001b[36m──\u001b[39m \u001b[1mColumn specification\u001b[22m \u001b[36m────────────────────────────────────────────────────────\u001b[39m\n",
            "\u001b[1mDelimiter:\u001b[22m \",\"\n",
            "\u001b[31mchr\u001b[39m (1): food item\n",
            "\u001b[32mdbl\u001b[39m (3): weight_in_grams, saturated_fat, cholesterol\n",
            "\n",
            "\u001b[36mℹ\u001b[39m Use `spec()` to retrieve the full column specification for this data.\n",
            "\u001b[36mℹ\u001b[39m Specify the column types or set `show_col_types = FALSE` to quiet this message.\n"
          ]
        }
      ],
      "source": [
        "library(readr)\n",
        "\n",
        "#reading in data\n",
        "nutrition_subset <- read_csv(\"https://raw.githubusercontent.com/bforoura/IDS/main/HW4/nutrition_subset.csv\")"
      ]
    },
    {
      "cell_type": "markdown",
      "source": [
        "***High Saturated Fats:***\n",
        "My first task in this problem was to make a data set with the top five highest foods in saturated fats. I did this by first making a new dataframe with saturated fats in desending order, then displayed the data. This data showed me that there are some inconsistancys in aranging the data like this. For example Lard 1 cup is weighs a lot less then 1 cheesecake, yet they have very close saturated fat."
      ],
      "metadata": {
        "id": "3aLzLVD8C8y6"
      }
    },
    {
      "cell_type": "code",
      "source": [
        "#ordering data set by saturated fats in desending order \n",
        "nutrition_subset2 <- nutrition_subset[with(nutrition_subset,order(-nutrition_subset$saturated_fat)),]\n",
        "\n",
        "#making it display the top 5 highest foods in saturated fat\n",
        "nutrition_subset2 <- nutrition_subset2[1:5,]\n",
        "nutrition_subset2"
      ],
      "metadata": {
        "colab": {
          "base_uri": "https://localhost:8080/",
          "height": 255
        },
        "id": "ecNZzmPl9BMW",
        "outputId": "6416214a-ce8c-46b8-ee4b-39d10cbaf3de"
      },
      "execution_count": 58,
      "outputs": [
        {
          "output_type": "display_data",
          "data": {
            "text/html": [
              "<table class=\"dataframe\">\n",
              "<caption>A tibble: 5 × 4</caption>\n",
              "<thead>\n",
              "\t<tr><th scope=col>food item</th><th scope=col>weight_in_grams</th><th scope=col>saturated_fat</th><th scope=col>cholesterol</th></tr>\n",
              "\t<tr><th scope=col>&lt;chr&gt;</th><th scope=col>&lt;dbl&gt;</th><th scope=col>&lt;dbl&gt;</th><th scope=col>&lt;dbl&gt;</th></tr>\n",
              "</thead>\n",
              "<tbody>\n",
              "\t<tr><td>CHEESECAKE                    1 CAKE </td><td>1110</td><td>119.9</td><td>2053</td></tr>\n",
              "\t<tr><td>ICE CREAM; VANLLA; RICH 16% FT1/2 GAL</td><td>1188</td><td>118.3</td><td> 703</td></tr>\n",
              "\t<tr><td>YELLOWCAKE W/ CHOCFRSTNG;COMML1 CAKE </td><td>1108</td><td> 92.0</td><td> 609</td></tr>\n",
              "\t<tr><td>CREME PIE                     1 PIE  </td><td> 910</td><td> 90.1</td><td>  46</td></tr>\n",
              "\t<tr><td>LARD                          1 CUP  </td><td> 205</td><td> 80.4</td><td> 195</td></tr>\n",
              "</tbody>\n",
              "</table>\n"
            ],
            "text/markdown": "\nA tibble: 5 × 4\n\n| food item &lt;chr&gt; | weight_in_grams &lt;dbl&gt; | saturated_fat &lt;dbl&gt; | cholesterol &lt;dbl&gt; |\n|---|---|---|---|\n| CHEESECAKE                    1 CAKE  | 1110 | 119.9 | 2053 |\n| ICE CREAM; VANLLA; RICH 16% FT1/2 GAL | 1188 | 118.3 |  703 |\n| YELLOWCAKE W/ CHOCFRSTNG;COMML1 CAKE  | 1108 |  92.0 |  609 |\n| CREME PIE                     1 PIE   |  910 |  90.1 |   46 |\n| LARD                          1 CUP   |  205 |  80.4 |  195 |\n\n",
            "text/latex": "A tibble: 5 × 4\n\\begin{tabular}{llll}\n food item & weight\\_in\\_grams & saturated\\_fat & cholesterol\\\\\n <chr> & <dbl> & <dbl> & <dbl>\\\\\n\\hline\n\t CHEESECAKE                    1 CAKE  & 1110 & 119.9 & 2053\\\\\n\t ICE CREAM; VANLLA; RICH 16\\% FT1/2 GAL & 1188 & 118.3 &  703\\\\\n\t YELLOWCAKE W/ CHOCFRSTNG;COMML1 CAKE  & 1108 &  92.0 &  609\\\\\n\t CREME PIE                     1 PIE   &  910 &  90.1 &   46\\\\\n\t LARD                          1 CUP   &  205 &  80.4 &  195\\\\\n\\end{tabular}\n",
            "text/plain": [
              "  food item                             weight_in_grams saturated_fat\n",
              "1 CHEESECAKE                    1 CAKE  1110            119.9        \n",
              "2 ICE CREAM; VANLLA; RICH 16% FT1/2 GAL 1188            118.3        \n",
              "3 YELLOWCAKE W/ CHOCFRSTNG;COMML1 CAKE  1108             92.0        \n",
              "4 CREME PIE                     1 PIE    910             90.1        \n",
              "5 LARD                          1 CUP    205             80.4        \n",
              "  cholesterol\n",
              "1 2053       \n",
              "2  703       \n",
              "3  609       \n",
              "4   46       \n",
              "5  195       "
            ]
          },
          "metadata": {}
        }
      ]
    },
    {
      "cell_type": "markdown",
      "source": [
        "***Saturated Fat per Gram:***\n",
        "To get a more accurate mesurement I created a new coloum called saturated_fat_per_gram. I computed this by dividing saturated_fat by weight_in_grams. By doing this I got a much more accurate results. The top result in this feild was BUTTER; SALTED 1TBSP at 0.507143 saturated_fat_per_gram "
      ],
      "metadata": {
        "id": "aQkcFnlBDPhg"
      }
    },
    {
      "cell_type": "code",
      "source": [
        "#adding new coloum to the end of the data set (saturated_fat_per_gram)(saturated fats/ weight in grams)\n",
        "nutrition_subset$saturated_fat_per_gram = c(nutrition_subset$saturated_fat/nutrition_subset$weight_in_grams)\n",
        "\n",
        "#ordering data set by saturated_fat_per_gram in desending order \n",
        "nutrition_subset3 <- nutrition_subset[with(nutrition_subset,order(-nutrition_subset$saturated_fat_per_gram)),]\n",
        "\n",
        "#making it display the top 5 highest foods in saturated_fat_per_gram\n",
        "nutrition_subset3 <- nutrition_subset3[1:5,]\n",
        "nutrition_subset3\n"
      ],
      "metadata": {
        "colab": {
          "base_uri": "https://localhost:8080/",
          "height": 255
        },
        "id": "cGUZjGBF99GM",
        "outputId": "47c38aaf-a187-46ac-80bb-53d77cd2c2eb"
      },
      "execution_count": 59,
      "outputs": [
        {
          "output_type": "display_data",
          "data": {
            "text/html": [
              "<table class=\"dataframe\">\n",
              "<caption>A tibble: 5 × 5</caption>\n",
              "<thead>\n",
              "\t<tr><th scope=col>food item</th><th scope=col>weight_in_grams</th><th scope=col>saturated_fat</th><th scope=col>cholesterol</th><th scope=col>saturated_fat_per_gram</th></tr>\n",
              "\t<tr><th scope=col>&lt;chr&gt;</th><th scope=col>&lt;dbl&gt;</th><th scope=col>&lt;dbl&gt;</th><th scope=col>&lt;dbl&gt;</th><th scope=col>&lt;dbl&gt;</th></tr>\n",
              "</thead>\n",
              "<tbody>\n",
              "\t<tr><td>BUTTER; SALTED                1 TBSP </td><td> 14</td><td> 7.1</td><td> 31</td><td>0.5071429</td></tr>\n",
              "\t<tr><td>BUTTER; UNSALTED              1 TBSP </td><td> 14</td><td> 7.1</td><td> 31</td><td>0.5071429</td></tr>\n",
              "\t<tr><td>BUTTER; SALTED                1/2 CUP</td><td>113</td><td>57.1</td><td>247</td><td>0.5053097</td></tr>\n",
              "\t<tr><td>BUTTER; UNSALTED              1/2 CUP</td><td>113</td><td>57.1</td><td>247</td><td>0.5053097</td></tr>\n",
              "\t<tr><td>BUTTER; SALTED                1 PAT  </td><td>  5</td><td> 2.5</td><td> 11</td><td>0.5000000</td></tr>\n",
              "</tbody>\n",
              "</table>\n"
            ],
            "text/markdown": "\nA tibble: 5 × 5\n\n| food item &lt;chr&gt; | weight_in_grams &lt;dbl&gt; | saturated_fat &lt;dbl&gt; | cholesterol &lt;dbl&gt; | saturated_fat_per_gram &lt;dbl&gt; |\n|---|---|---|---|---|\n| BUTTER; SALTED                1 TBSP  |  14 |  7.1 |  31 | 0.5071429 |\n| BUTTER; UNSALTED              1 TBSP  |  14 |  7.1 |  31 | 0.5071429 |\n| BUTTER; SALTED                1/2 CUP | 113 | 57.1 | 247 | 0.5053097 |\n| BUTTER; UNSALTED              1/2 CUP | 113 | 57.1 | 247 | 0.5053097 |\n| BUTTER; SALTED                1 PAT   |   5 |  2.5 |  11 | 0.5000000 |\n\n",
            "text/latex": "A tibble: 5 × 5\n\\begin{tabular}{lllll}\n food item & weight\\_in\\_grams & saturated\\_fat & cholesterol & saturated\\_fat\\_per\\_gram\\\\\n <chr> & <dbl> & <dbl> & <dbl> & <dbl>\\\\\n\\hline\n\t BUTTER; SALTED                1 TBSP  &  14 &  7.1 &  31 & 0.5071429\\\\\n\t BUTTER; UNSALTED              1 TBSP  &  14 &  7.1 &  31 & 0.5071429\\\\\n\t BUTTER; SALTED                1/2 CUP & 113 & 57.1 & 247 & 0.5053097\\\\\n\t BUTTER; UNSALTED              1/2 CUP & 113 & 57.1 & 247 & 0.5053097\\\\\n\t BUTTER; SALTED                1 PAT   &   5 &  2.5 &  11 & 0.5000000\\\\\n\\end{tabular}\n",
            "text/plain": [
              "  food item                             weight_in_grams saturated_fat\n",
              "1 BUTTER; SALTED                1 TBSP   14              7.1         \n",
              "2 BUTTER; UNSALTED              1 TBSP   14              7.1         \n",
              "3 BUTTER; SALTED                1/2 CUP 113             57.1         \n",
              "4 BUTTER; UNSALTED              1/2 CUP 113             57.1         \n",
              "5 BUTTER; SALTED                1 PAT     5              2.5         \n",
              "  cholesterol saturated_fat_per_gram\n",
              "1  31         0.5071429             \n",
              "2  31         0.5071429             \n",
              "3 247         0.5053097             \n",
              "4 247         0.5053097             \n",
              "5  11         0.5000000             "
            ]
          },
          "metadata": {}
        }
      ]
    },
    {
      "cell_type": "markdown",
      "source": [
        "***Standardize (zero mean) the field saturated_ fat_ per_gram:***\n",
        "I then moved on to standardizing and finding any outliers this data set has to offer. I fist made a scaled_saturated_fat_per_gram and displayed a summary of its data. i then applyed the three sigma rule to the scaled data. It showed me that there are 758 outliers in this data field. I then put the data into a density plot. "
      ],
      "metadata": {
        "id": "MdCBS-qsDZtH"
      }
    },
    {
      "cell_type": "code",
      "source": [
        "#standardizing saturated_fat_per_gram\n",
        "\n",
        "#making scaled saturated_fat_per_gram\n",
        "nutrition_subset$scaled_saturated_fat_per_gram <- scale(x = nutrition_subset$saturated_fat_per_gram)\n",
        "summary(nutrition_subset$scaled_saturated_fat_per_gram)"
      ],
      "metadata": {
        "colab": {
          "base_uri": "https://localhost:8080/",
          "height": 139
        },
        "id": "IgXzadLjBVfs",
        "outputId": "f31c073f-0544-4d7e-d7c1-0df9d8f6f620"
      },
      "execution_count": 60,
      "outputs": [
        {
          "output_type": "display_data",
          "data": {
            "text/plain": [
              "       V1         \n",
              " Min.   :-0.5620  \n",
              " 1st Qu.:-0.5620  \n",
              " Median :-0.4411  \n",
              " Mean   : 0.0000  \n",
              " 3rd Qu.: 0.1539  \n",
              " Max.   : 7.1068  "
            ]
          },
          "metadata": {}
        }
      ]
    },
    {
      "cell_type": "code",
      "source": [
        "#three sigma rule \n",
        "three_sigma_rule <- (nutrition_subset$scaled_saturated_fat_per_gram < -.3 | nutrition_subset$scaled_saturated_fat_per_gram > .3)\n",
        "\n",
        "#number of outliers\n",
        "cat (\"There are\", sum(three_sigma_rule), \"outliers \\n\\n\")"
      ],
      "metadata": {
        "colab": {
          "base_uri": "https://localhost:8080/"
        },
        "id": "IyxiV5iWC7eE",
        "outputId": "6bee4378-e55a-4b3c-9540-0d246b03c233"
      },
      "execution_count": 61,
      "outputs": [
        {
          "output_type": "stream",
          "name": "stdout",
          "text": [
            "There are 758 outliers \n",
            "\n"
          ]
        }
      ]
    },
    {
      "cell_type": "code",
      "source": [
        "#density plots \n",
        "par(mfrow = c(1,2))\n",
        "\n",
        "#unsacled plot \n",
        "d1 <- density(nutrition_subset$saturated_fat_per_gram)\n",
        "plot(d1, main = \"Unsacled\")\n",
        "polygon(d1, col = \"orange\", border = \"blue\")\n",
        "\n",
        "# plot\n",
        "d2 <- density(nutrition_subset$scaled_saturated_fat_per_gram)\n",
        "plot(d2, main = \"Sacled\")\n",
        "polygon(d2, col = \"orange\", border = \"blue\")"
      ],
      "metadata": {
        "colab": {
          "base_uri": "https://localhost:8080/",
          "height": 437
        },
        "id": "YT1tEcQZDh22",
        "outputId": "e1d86d53-9703-4b6b-b476-78b0cf478466"
      },
      "execution_count": 62,
      "outputs": [
        {
          "output_type": "display_data",
          "data": {
            "text/plain": [
              "Plot with title “Sacled”"
            ],
            "image/png": "[encoded data removed]"
          },
          "metadata": {
            "image/png": {
              "width": 420,
              "height": 420
            }
          }
        }
      ]
    },
    {
      "cell_type": "markdown",
      "source": [
        "***Missing Values:***\n",
        "Next I used is.na to see if there were any missing values in the data set. There were none, but if there were i would have used the median on the column to replace the missing values "
      ],
      "metadata": {
        "id": "EIwJW4d3EB7H"
      }
    },
    {
      "cell_type": "code",
      "source": [
        "#finds if there are any missing values \n",
        "cat(\"Missing values: \\nsaturated_fat- \", sum(is.na(nutrition_subset$saturated_fat)),\n",
        "\"\\ncholesterol- \", sum (is.na(nutrition_subset$cholesterol)),\n",
        "\"\\nweight_in_grams- \", sum (is.na(nutrition_subset$weight_in_grams)))\n",
        "#no missing values "
      ],
      "metadata": {
        "colab": {
          "base_uri": "https://localhost:8080/"
        },
        "id": "KMeqUrb7Qb_y",
        "outputId": "482884b1-c55a-44f2-f2c4-675795e44609"
      },
      "execution_count": 63,
      "outputs": [
        {
          "output_type": "stream",
          "name": "stdout",
          "text": [
            "Missing values: \n",
            "saturated_fat-  0 \n",
            "cholesterol-  0 \n",
            "weight_in_grams-  0"
          ]
        }
      ]
    },
    {
      "cell_type": "markdown",
      "source": [
        "***Standardizing:***\n",
        "I then moved on to finding the outliers of all the numerical values in the data set. i scaled saturated fats, cholesterol, and weight in grams. After this i applied the three sigma rule and found that there were 20 outliers in saturated fats, 17 in cholesterol, and 22 in weight in grams. "
      ],
      "metadata": {
        "id": "HBAhbxGMEXnY"
      }
    },
    {
      "cell_type": "code",
      "source": [
        "#standardizing \n",
        "nutrition_subset$scaled_sf <- scale(x = nutrition_subset$saturated_fat)\n",
        "nutrition_subset$scaled_c <- scale(x = nutrition_subset$cholesterol)\n",
        "nutrition_subset$scaled_wig <- scale(x = nutrition_subset$weight_in_grams)\n",
        "\n",
        "#three sigma rule\n",
        "tsr_sf <- (nutrition_subset$scaled_sf < -3 | nutrition_subset$scaled_sf >3)\n",
        "tsr_c <- (nutrition_subset$scaled_c < -3 | nutrition_subset$scaled_c >3)\n",
        "tsr_wig <- (nutrition_subset$scaled_wig < -3 | nutrition_subset$scaled_wig >3)\n",
        "\n",
        "#determining number of outliers\n",
        "cat(\"outliers:\\nsaturated_fat- \", sum(tsr_sf),\n",
        "\"\\ncholesterol- \", sum(tsr_c),\n",
        "\"\\nweight_in_grams- \", sum(tsr_wig))\n"
      ],
      "metadata": {
        "colab": {
          "base_uri": "https://localhost:8080/"
        },
        "id": "6vsgOOvcRu-a",
        "outputId": "48e58d37-a008-431e-fefe-55a1ac2115e1"
      },
      "execution_count": 64,
      "outputs": [
        {
          "output_type": "stream",
          "name": "stdout",
          "text": [
            "outliers:\n",
            "saturated_fat-  20 \n",
            "cholesterol-  17 \n",
            "weight_in_grams-  22"
          ]
        }
      ]
    },
    {
      "cell_type": "code",
      "source": [
        ""
      ],
      "metadata": {
        "id": "HRmY37H4S9ID"
      },
      "execution_count": null,
      "outputs": []
    }
  ]
}