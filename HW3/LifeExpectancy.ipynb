{
 "cells": [
  {
   "cell_type": "code",
   "execution_count": 2,
   "id": "4a27363d",
   "metadata": {},
   "outputs": [],
   "source": [
    "import pandas as pd\n",
    "from tabulate import tabulate \n",
    "from scipy.stats import pearsonr\n",
    "import matplotlib.pyplot as plt \n",
    "from sklearn.linear_model import LinearRegression\n",
    "from sklearn.metrics import mean_squared_error, r2_score\n",
    "from sklearn.linear_model import LinearRegression\n",
    "import numpy as np\n",
    "import matplotlib.pyplot as plt"
   ]
  },
  {
   "cell_type": "code",
   "execution_count": 7,
   "id": "de85359a",
   "metadata": {},
   "outputs": [
    {
     "data": {
      "text/html": [
       "<div>\n",
       "<style scoped>\n",
       "    .dataframe tbody tr th:only-of-type {\n",
       "        vertical-align: middle;\n",
       "    }\n",
       "\n",
       "    .dataframe tbody tr th {\n",
       "        vertical-align: top;\n",
       "    }\n",
       "\n",
       "    .dataframe thead th {\n",
       "        text-align: right;\n",
       "    }\n",
       "</style>\n",
       "<table border=\"1\" class=\"dataframe\">\n",
       "  <thead>\n",
       "    <tr style=\"text-align: right;\">\n",
       "      <th></th>\n",
       "      <th>Country</th>\n",
       "      <th>Year</th>\n",
       "      <th>Life_Expectancy</th>\n",
       "      <th>Adult_Mortality</th>\n",
       "      <th>Alcohol</th>\n",
       "      <th>Percentage_Expenditure</th>\n",
       "      <th>BMI</th>\n",
       "      <th>Total_Expenditure</th>\n",
       "      <th>GDP</th>\n",
       "      <th>Population</th>\n",
       "      <th>Schooling</th>\n",
       "    </tr>\n",
       "  </thead>\n",
       "  <tbody>\n",
       "    <tr>\n",
       "      <th>0</th>\n",
       "      <td>Afghanistan</td>\n",
       "      <td>2010</td>\n",
       "      <td>58.8</td>\n",
       "      <td>279</td>\n",
       "      <td>0.01</td>\n",
       "      <td>79.679367</td>\n",
       "      <td>16.7</td>\n",
       "      <td>9.20</td>\n",
       "      <td>553.328940</td>\n",
       "      <td>2883167</td>\n",
       "      <td>9.2</td>\n",
       "    </tr>\n",
       "    <tr>\n",
       "      <th>1</th>\n",
       "      <td>Afghanistan</td>\n",
       "      <td>2011</td>\n",
       "      <td>59.2</td>\n",
       "      <td>275</td>\n",
       "      <td>0.01</td>\n",
       "      <td>7.097109</td>\n",
       "      <td>17.2</td>\n",
       "      <td>7.87</td>\n",
       "      <td>63.537231</td>\n",
       "      <td>2978599</td>\n",
       "      <td>9.5</td>\n",
       "    </tr>\n",
       "    <tr>\n",
       "      <th>2</th>\n",
       "      <td>Afghanistan</td>\n",
       "      <td>2012</td>\n",
       "      <td>59.5</td>\n",
       "      <td>272</td>\n",
       "      <td>0.01</td>\n",
       "      <td>78.184215</td>\n",
       "      <td>17.6</td>\n",
       "      <td>8.52</td>\n",
       "      <td>669.959000</td>\n",
       "      <td>3696958</td>\n",
       "      <td>9.8</td>\n",
       "    </tr>\n",
       "    <tr>\n",
       "      <th>3</th>\n",
       "      <td>Afghanistan</td>\n",
       "      <td>2013</td>\n",
       "      <td>59.9</td>\n",
       "      <td>268</td>\n",
       "      <td>0.01</td>\n",
       "      <td>73.219243</td>\n",
       "      <td>18.1</td>\n",
       "      <td>8.13</td>\n",
       "      <td>631.744976</td>\n",
       "      <td>31731688</td>\n",
       "      <td>9.9</td>\n",
       "    </tr>\n",
       "    <tr>\n",
       "      <th>4</th>\n",
       "      <td>Afghanistan</td>\n",
       "      <td>2014</td>\n",
       "      <td>59.9</td>\n",
       "      <td>271</td>\n",
       "      <td>0.01</td>\n",
       "      <td>73.523582</td>\n",
       "      <td>18.6</td>\n",
       "      <td>8.18</td>\n",
       "      <td>612.696514</td>\n",
       "      <td>327582</td>\n",
       "      <td>10.0</td>\n",
       "    </tr>\n",
       "  </tbody>\n",
       "</table>\n",
       "</div>"
      ],
      "text/plain": [
       "       Country  Year  Life_Expectancy  Adult_Mortality  Alcohol  \\\n",
       "0  Afghanistan  2010             58.8              279     0.01   \n",
       "1  Afghanistan  2011             59.2              275     0.01   \n",
       "2  Afghanistan  2012             59.5              272     0.01   \n",
       "3  Afghanistan  2013             59.9              268     0.01   \n",
       "4  Afghanistan  2014             59.9              271     0.01   \n",
       "\n",
       "   Percentage_Expenditure   BMI  Total_Expenditure         GDP  Population  \\\n",
       "0               79.679367  16.7               9.20  553.328940     2883167   \n",
       "1                7.097109  17.2               7.87   63.537231     2978599   \n",
       "2               78.184215  17.6               8.52  669.959000     3696958   \n",
       "3               73.219243  18.1               8.13  631.744976    31731688   \n",
       "4               73.523582  18.6               8.18  612.696514      327582   \n",
       "\n",
       "   Schooling  \n",
       "0        9.2  \n",
       "1        9.5  \n",
       "2        9.8  \n",
       "3        9.9  \n",
       "4       10.0  "
      ]
     },
     "execution_count": 7,
     "metadata": {},
     "output_type": "execute_result"
    }
   ],
   "source": [
    "LEdata = pd.read_csv('https://raw.githubusercontent.com/tstef87/IDS/main/HW3/Life_Expectancy.csv')\n",
    "\n",
    "LEdata.head()"
   ]
  },
  {
   "cell_type": "code",
   "execution_count": 8,
   "id": "e778b90d",
   "metadata": {},
   "outputs": [
    {
     "data": {
      "text/plain": [
       "(90, 11)"
      ]
     },
     "execution_count": 8,
     "metadata": {},
     "output_type": "execute_result"
    }
   ],
   "source": [
    "LEdata.shape"
   ]
  },
  {
   "cell_type": "code",
   "execution_count": 12,
   "id": "b45ee718",
   "metadata": {},
   "outputs": [
    {
     "data": {
      "image/png": "[encoded data removed]",
      "text/plain": [
       "<Figure size 432x288 with 1 Axes>"
      ]
     },
     "metadata": {
      "needs_background": "light"
     },
     "output_type": "display_data"
    }
   ],
   "source": [
    "X = LEdata.iloc[:, 2].values.reshape(-1,1)\n",
    "Y = LEdata.iloc[:, 3].values.reshape(-1,1)\n",
    "\n",
    "LRmodel = LinearRegression()  \n",
    "\n",
    "# Perform linear regression\n",
    "LRmodel.fit(X, Y)   \n",
    "\n",
    "\n",
    "# Make predictions\n",
    "Y_pred = LRmodel.predict(X)  \n",
    "\n",
    "\n",
    "# Visualize the dataset and the regression line:\n",
    "plt.scatter(X, Y)\n",
    "plt.plot(X, Y_pred, color='red')\n",
    "\n",
    "plt.show()\n",
    "\n"
   ]
  },
  {
   "cell_type": "code",
   "execution_count": 11,
   "id": "a9392d83",
   "metadata": {},
   "outputs": [
    {
     "name": "stdout",
     "output_type": "stream",
     "text": [
      "Pearsons correlation: -0.86553\n"
     ]
    }
   ],
   "source": [
    "data1 = LEdata['Life_Expectancy']\n",
    "data2 = LEdata['Adult_Mortality']\n",
    "\n",
    "corr, _ = pearsonr(data1, data2)\n",
    "print('Pearsons correlation: %.5f' % corr)"
   ]
  },
  {
   "cell_type": "code",
   "execution_count": 15,
   "id": "cc8e5473",
   "metadata": {},
   "outputs": [
    {
     "name": "stdout",
     "output_type": "stream",
     "text": [
      "Eating Habits correlation = 0.69849\n",
      "Drinking Alcohol correlation = 0.35452\n",
      "Social Factors correlation = 0.48980\n",
      "Economic Factors correlation = 0.55269\n"
     ]
    }
   ],
   "source": [
    "#Does life expectancy have positive or negative correlation \n",
    "#with eating habits, drinking alcohol, social factors, and economic factors?\n",
    "\n",
    "eatingHabits,_ = pearsonr(LEdata['BMI'], data1)\n",
    "alcohol,_ = pearsonr(LEdata['Alcohol'], data1)\n",
    "social,_ = pearsonr(LEdata['Percentage_Expenditure'], data1)\n",
    "economic,_ = pearsonr(LEdata['GDP'], data1)\n",
    "\n",
    "print ('Eating Habits correlation = %.5f' % eatingHabits)\n",
    "print ('Drinking Alcohol correlation = %.5f' % alcohol)\n",
    "print ('Social Factors correlation = %.5f' % social)\n",
    "print ('Economic Factors correlation = %.5f' % economic)\n",
    "\n"
   ]
  },
  {
   "cell_type": "code",
   "execution_count": 23,
   "id": "eb34898d",
   "metadata": {},
   "outputs": [
    {
     "name": "stdout",
     "output_type": "stream",
     "text": [
      "School correlation = 0.75168\n"
     ]
    },
    {
     "data": {
      "image/png": "[encoded data removed]",
      "text/plain": [
       "<Figure size 432x288 with 1 Axes>"
      ]
     },
     "metadata": {
      "needs_background": "light"
     },
     "output_type": "display_data"
    }
   ],
   "source": [
    "Y = LEdata.iloc[:, 10].values.reshape(-1,1)\n",
    "\n",
    "LRmodel = LinearRegression()  \n",
    "LRmodel.fit(X, Y)   \n",
    "\n",
    "Y_pred = LRmodel.predict(X)  \n",
    "\n",
    "plt.scatter(X, Y)\n",
    "plt.plot(X, Y_pred, color='red')\n",
    "\n",
    "school,_ = pearsonr (LEdata['Schooling'], data1)\n",
    "print ('School correlation = %.5f' % school)\n"
   ]
  },
  {
   "cell_type": "code",
   "execution_count": 22,
   "id": "7564901f",
   "metadata": {},
   "outputs": [
    {
     "name": "stdout",
     "output_type": "stream",
     "text": [
      "Eating Habits correlation = 0.69849\n",
      "MSE:  211.9295685370354\n",
      "R2:  0.4878817285865854\n"
     ]
    },
    {
     "data": {
      "image/png": "[encoded data removed]",
      "text/plain": [
       "<Figure size 432x288 with 1 Axes>"
      ]
     },
     "metadata": {
      "needs_background": "light"
     },
     "output_type": "display_data"
    }
   ],
   "source": [
    "#Create and plot several linear regression models for \n",
    "#life expectancy (as the dependent variable) and the independent \n",
    "#variables that had the highest correlation with life expectancy \n",
    "#as found in your correlation analysis.\n",
    "\n",
    "print ('Eating Habits correlation = %.5f' % eatingHabits)\n",
    "\n",
    "Y = LEdata.iloc[:, 6].values.reshape(-1,1)\n",
    "\n",
    "LRmodel = LinearRegression()  \n",
    "LRmodel.fit(X, Y)   \n",
    "\n",
    "Y_pred = LRmodel.predict(X)  \n",
    "\n",
    "plt.scatter(X, Y)\n",
    "plt.plot(X, Y_pred, color='red')\n",
    "\n",
    "\n",
    "print(\"MSE: \", mean_squared_error(Y, Y_pred))\n",
    "print(\"R2: \", r2_score(Y, Y_pred))\n"
   ]
  },
  {
   "cell_type": "code",
   "execution_count": null,
   "id": "c696e13b",
   "metadata": {},
   "outputs": [],
   "source": []
  }
 ],
 "metadata": {
  "kernelspec": {
   "display_name": "Python 3 (ipykernel)",
   "language": "python",
   "name": "python3"
  },
  "language_info": {
   "codemirror_mode": {
    "name": "ipython",
    "version": 3
   },
   "file_extension": ".py",
   "mimetype": "text/x-python",
   "name": "python",
   "nbconvert_exporter": "python",
   "pygments_lexer": "ipython3",
   "version": "3.9.7"
  }
 },
 "nbformat": 4,
 "nbformat_minor": 5
}
